{
 "cells": [
  {
   "cell_type": "markdown",
   "metadata": {},
   "source": [
    "# Ejercicio análisis time series\n",
    "Para este ejercicio vas a trabajar con el histórico de valores en bolsa de una empresa que se dedica a vender muebles. Se pide\n",
    "1. Importa los datos 'df_furniture.csv'\n",
    "2. Trata la fecha como texto. Crea una columna para el año, mes y dia, y a partir de esas columnas crea la de fecha, en formato datetime de pandas\n",
    "3. ¿De qué fecha a qué fecha va el histórico?\n",
    "4. ¿Cómo es la serie temporal? ¿Tiene tendencia? ¿Aprecias alguna estacionalidad?\n",
    "5. ¿Podrías demostrar de dos maneras estadísticas que la serie no es stationary?\n",
    "6. Parece que hay una tendencia, pero no se aprecia bien con tanto pico en la serie. ¿Conoces algún método para representar mejor la tendencia?\n",
    "7. Estaría bien visualizar todos los componentes de la serie temporal por separado\n",
    "8. Demuestra mediante una gráfica de autocorrelación que la serie es estacional\n",
    "9. ¿Qué dependencia tiene cada instante de sus ultimos 5 lags? Demuéstralo mediante una matriz de correlación. ¿Esto es bueno para los modelos?\n",
    "10. Ya hemos visto que hay seasonality. ¿Cada cuántos instantes se cumple ese patrón?\n",
    "11. Para un futuro modelado de los datos necesitaremos eliminar la tendencia. ¿Cómo hacemos esto?"
   ]
  }
 ],
 "metadata": {
  "kernelspec": {
   "display_name": "Python 3",
   "language": "python",
   "name": "python3"
  },
  "language_info": {
   "codemirror_mode": {
    "name": "ipython",
    "version": 3
   },
   "file_extension": ".py",
   "mimetype": "text/x-python",
   "name": "python",
   "nbconvert_exporter": "python",
   "pygments_lexer": "ipython3",
   "version": "3.7.4"
  }
 },
 "nbformat": 4,
 "nbformat_minor": 4
}
