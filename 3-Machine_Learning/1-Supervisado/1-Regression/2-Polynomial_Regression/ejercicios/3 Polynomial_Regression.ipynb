{
 "cells": [
  {
   "attachments": {},
   "cell_type": "markdown",
   "metadata": {
    "colab_type": "text",
    "id": "_lObjyER4X6p"
   },
   "source": [
    "## Polynomial Regression on Boston Housing Dataset\n",
    "\n",
    "\n",
    "**En este notebook hacemos un estudio comparativo de la precisión de la Regresión Lineal y la Regresión Polinómica en el Conjunto de Datos de Viviendas de Boston**\n",
    "\n",
    "Estos datos eran originalmente una parte de UCI Machine Learning Repository y se ha eliminado ahora. Estos datos también se incluyen en la biblioteca scikit-learn. \n",
    "Hay 506 muestras y 13 variables de características en este conjunto de datos. El objetivo es predecir el valor de los precios de la vivienda utilizando las características dadas.\n",
    "\n",
    "A continuación se describen todas las características:\n",
    "\n",
    "  **CRIM**: Índice de delincuencia per cápita por ciudad\n",
    "\n",
    "  **ZN**: Proporción de suelo residencial con parcelas de más de 25.000 pies cuadrados.\n",
    "\n",
    "  **INDUS**: Proporción de acres comerciales no minoristas por ciudad\n",
    "\n",
    "  **CHAS**: Charles River dummy variable (= 1 si el tramo linda con el río; 0 en caso contrario)\n",
    "\n",
    "  **NOX**: Concentración de óxido nítrico (partes por 10 millones)\n",
    "\n",
    "  **RM**: Número medio de habitaciones por vivienda\n",
    "\n",
    "  **EDAD**: Proporción de unidades ocupadas por sus propietarios construidas antes de 1940\n",
    "\n",
    "  **DIS**: Distancias ponderadas a cinco centros de empleo de Boston\n",
    "\n",
    "  **RAD**: Índice de accesibilidad a autopistas radiales\n",
    "\n",
    "  **TAX**: Tipo del impuesto sobre bienes inmuebles por cada 10.000 dólares\n",
    "\n",
    "  **B**: 1000(Bk - 0,63)², donde Bk es la proporción de [personas de ascendencia afroamericana] por ciudad\n",
    "\n",
    "  **LSTAT**: Porcentaje del estatus más bajo de la población\n",
    "\n",
    "  **MEDV**: Valor medio de las viviendas ocupadas por sus propietarios en miles de dólares\n",
    "  \n",
    "  \n",
    "  \n",
    "\n"
   ]
  },
  {
   "cell_type": "markdown",
   "metadata": {},
   "source": [
    "# Ejercicios"
   ]
  },
  {
   "attachments": {},
   "cell_type": "markdown",
   "metadata": {
    "colab_type": "text",
    "id": "gorjhNWk1jYI"
   },
   "source": [
    "**Importe las librerías necesarias**"
   ]
  },
  {
   "cell_type": "code",
   "execution_count": null,
   "metadata": {},
   "outputs": [],
   "source": [
    "import numpy as np\n",
    "import pandas as pd\n",
    "import seaborn as sns"
   ]
  },
  {
   "attachments": {},
   "cell_type": "markdown",
   "metadata": {
    "colab_type": "text",
    "id": "OZluhUmFzgwN"
   },
   "source": [
    "**Cargar el conjunto de datos de viviendas de Boston desde scikit-learn**"
   ]
  },
  {
   "cell_type": "code",
   "execution_count": null,
   "metadata": {},
   "outputs": [],
   "source": [
    "from sklearn.datasets import load_boston\n",
    "\n",
    "boston_dataset = load_boston()"
   ]
  },
  {
   "cell_type": "code",
   "execution_count": null,
   "metadata": {},
   "outputs": [],
   "source": [
    "boston_dataset.keys()"
   ]
  },
  {
   "cell_type": "code",
   "execution_count": null,
   "metadata": {},
   "outputs": [],
   "source": [
    "print(boston_dataset['DESCR'])"
   ]
  },
  {
   "attachments": {},
   "cell_type": "markdown",
   "metadata": {
    "colab_type": "text",
    "id": "I-egcQr3zrr0"
   },
   "source": [
    "**Cargar los datos en pandas dataframe**"
   ]
  },
  {
   "attachments": {},
   "cell_type": "markdown",
   "metadata": {
    "colab_type": "text",
    "id": "LVlhiwrEz0CQ"
   },
   "source": [
    "**El target no está en los datos. Cree una nueva columna de valores target y añádala al dataframe en una columna llamada MEDV**."
   ]
  },
  {
   "attachments": {},
   "cell_type": "markdown",
   "metadata": {
    "colab_type": "text",
    "id": "G01Hoq3g0BDp"
   },
   "source": [
    "**Preprocesamiento de datos**\n",
    "\n",
    "Comprobar si faltan valores en todas las columnas"
   ]
  },
  {
   "attachments": {},
   "cell_type": "markdown",
   "metadata": {
    "colab_type": "text",
    "id": "inz3dJr00K6y"
   },
   "source": [
    "**Visualización de datos**\n",
    "\n",
    "Visualiza la distribución del target. "
   ]
  },
  {
   "attachments": {},
   "cell_type": "markdown",
   "metadata": {
    "colab_type": "text",
    "id": "2IBNTU5N0RQ5"
   },
   "source": [
    "**Matriz de correlaciones**\n",
    "\n",
    "Analizar la matriz de correlaciones. Pinta un heatmap\n",
    "\n",
    "* Del diagrama de correlación: cuáles son las columnas más correlacionadas con **MEDV**.\n",
    "* Hay dos características muy correlacionadas. Identifícalas y elimina una de ellas para evitar la multicolinealidad."
   ]
  },
  {
   "attachments": {},
   "cell_type": "markdown",
   "metadata": {},
   "source": [
    "##  Haz 2 gráficos de dispersión para ver la relación entre **MEDV** y **LSTAT** y **RM**"
   ]
  },
  {
   "attachments": {},
   "cell_type": "markdown",
   "metadata": {
    "colab_type": "text",
    "id": "9Vbf0Z3u-vgb"
   },
   "source": [
    "**Preparar los datos para el entrenamiento**  \n",
    "Crear un dataframe X que incluya las columnas **LSTAT** y **RM**.  \n",
    "Y debe ser una serie pandas que incluya los valores objetivo **'MEDV'**."
   ]
  },
  {
   "attachments": {},
   "cell_type": "markdown",
   "metadata": {
    "colab_type": "text",
    "id": "qloWQhqb0fud"
   },
   "source": [
    "**Divide los datos en conjuntos de entrenamiento y de prueba**.\n",
    "\n",
    "Divide el conjunto de datos de entrenamiento y prueba en 80% : 20%. Asigna a random_state cualquier valor. Esto asegura la consistencia. Imprime los dimensiones de los objetos resultantes"
   ]
  },
  {
   "attachments": {},
   "cell_type": "markdown",
   "metadata": {
    "colab_type": "text",
    "id": "6JSBuka3Eecm"
   },
   "source": [
    "# Regresión lineal\n",
    "\n",
    "Construir un modelo de regresión lineal con sklearn LinearRegression.\n",
    "Vamos a utilizar el error cuadrático medio y la puntuación R2 para evaluar nuestro modelo, así que asegúrese de hacer las importaciones necesarias.\n",
    "\n",
    "Importar las funciones necesarias y entrenar un modelo LinearRegression"
   ]
  },
  {
   "attachments": {},
   "cell_type": "markdown",
   "metadata": {},
   "source": [
    "**Evaluar el rendimiento del modelo en los conjuntos de entrenamiento y prueba**\n",
    "\n",
    "Puedes usar este código \n",
    "\n",
    "```python\n",
    "from sklearn.metrics import mean_absolute_error, mean_squared_error, r2_score, mean_absolute_percentage_error\n",
    "\n",
    "print('MAE train', mean_absolute_error(y_train, lin_reg.predict(X_train)))\n",
    "print('MAPE train', mean_absolute_percentage_error(y_train, lin_reg.predict(X_train)))\n",
    "print('MSE train', mean_squared_error(y_train, lin_reg.predict(X_train)))\n",
    "print('RMSE train', np.sqrt(mean_squared_error(y_train, lin_reg.predict(X_train))))\n",
    "print('R2 score train', r2_score(y_train, lin_reg.predict(X_train)))\n",
    "\n",
    "```"
   ]
  },
  {
   "attachments": {},
   "cell_type": "markdown",
   "metadata": {},
   "source": [
    "**Veamos el rendimiento del modelo visualmente. Visualiza y_test frente a y_pred**.\n",
    "\n",
    "Trazando y_test vs y_pred. Idealmente debería haber sido una línea recta"
   ]
  },
  {
   "attachments": {},
   "cell_type": "markdown",
   "metadata": {
    "colab_type": "text",
    "id": "uJuZfJHwfhfa"
   },
   "source": [
    "# Regresión polinómica\n",
    "\n",
    "Podemos ver que **LSTAT** no varía exactamente de forma lineal. Apliquemos la Regresión Polinómica con **grado 2** y probemos. \n",
    "\n",
    "Para generar los grados de orden superior, utilizamos la clase PolyniomialFeatures de la librería sklearn. "
   ]
  },
  {
   "attachments": {},
   "cell_type": "markdown",
   "metadata": {
    "colab_type": "text",
    "id": "_5wzgDBShTUh"
   },
   "source": [
    "**¿Mejoró el modelo utilizando el modelo polinómico?** "
   ]
  },
  {
   "attachments": {},
   "cell_type": "markdown",
   "metadata": {},
   "source": [
    "**Prueba con un polinomio de grado 3 y grado 4**"
   ]
  },
  {
   "cell_type": "markdown",
   "metadata": {},
   "source": [
    "**Visualiza el polinomio de grado 3 en una gráfica**"
   ]
  }
 ],
 "metadata": {
  "accelerator": "GPU",
  "colab": {
   "collapsed_sections": [],
   "name": "Polynomial Regression on Boston Housing Data.ipynb",
   "provenance": [],
   "version": "0.3.2"
  },
  "kernelspec": {
   "display_name": "Python 3",
   "language": "python",
   "name": "python3"
  },
  "language_info": {
   "codemirror_mode": {
    "name": "ipython",
    "version": 3
   },
   "file_extension": ".py",
   "mimetype": "text/x-python",
   "name": "python",
   "nbconvert_exporter": "python",
   "pygments_lexer": "ipython3",
   "version": "3.8.10"
  },
  "vscode": {
   "interpreter": {
    "hash": "31f2aee4e71d21fbe5cf8b01ff0e069b9275f58929596ceb00d14d90e3e16cd6"
   }
  }
 },
 "nbformat": 4,
 "nbformat_minor": 4
}
