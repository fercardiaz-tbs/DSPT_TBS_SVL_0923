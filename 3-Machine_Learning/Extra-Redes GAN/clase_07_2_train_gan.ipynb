{
 "cells": [
  {
   "cell_type": "markdown",
   "metadata": {
    "id": "4mB_sFildiDh"
   },
   "source": [
    "<a href=\"https://colab.research.google.com/github/juanmaniglia/Guia_Tensorflow_Keras/blob/main/Clase_07/clase_07_2_train_gan.ipynb\" target=\"_parent\"><img src=\"https://colab.research.google.com/assets/colab-badge.svg\" alt=\"Open In Colab\"/></a>"
   ]
  },
  {
   "cell_type": "markdown",
   "metadata": {
    "id": "303iHntmdiDj"
   },
   "source": [
    "**Modulo 7 : GANs**\n",
    "* Instructor: [Juan Maniglia](https://juanmaniglia.github.io)"
   ]
  },
  {
   "cell_type": "markdown",
   "metadata": {
    "id": "6Ohl-hxAAaNp"
   },
   "source": [
    "# Google CoLab Instructions"
   ]
  },
  {
   "cell_type": "code",
   "execution_count": null,
   "metadata": {
    "colab": {
     "base_uri": "https://localhost:8080/",
     "height": 156
    },
    "id": "Y8_-1h5ddiDp",
    "outputId": "c623348e-940c-48b5-be88-c5998b0e8314"
   },
   "outputs": [
    {
     "name": "stdout",
     "output_type": "stream",
     "text": [
      "Go to this URL in a browser: https://accounts.google.com/o/oauth2/auth?client_id=947318989803-6bn6qk8qdgf4n4g3pfee6491hc0brc4i.apps.googleusercontent.com&redirect_uri=urn%3aietf%3awg%3aoauth%3a2.0%3aoob&response_type=code&scope=email%20https%3a%2f%2fwww.googleapis.com%2fauth%2fdocs.test%20https%3a%2f%2fwww.googleapis.com%2fauth%2fdrive%20https%3a%2f%2fwww.googleapis.com%2fauth%2fdrive.photos.readonly%20https%3a%2f%2fwww.googleapis.com%2fauth%2fpeopleapi.readonly\n",
      "\n",
      "Enter your authorization code:\n",
      "··········\n",
      "Mounted at /content/drive\n",
      "Note: using Google CoLab\n",
      "TensorFlow 2.x selected.\n"
     ]
    }
   ],
   "source": [
    "try:\n",
    "    from google.colab import drive\n",
    "    drive.mount('/content/drive', force_remount=True)\n",
    "    COLAB = True\n",
    "    print(\"Note: using Google CoLab\")\n",
    "    %tensorflow_version 2.x\n",
    "except:\n",
    "    print(\"Note: not using Google CoLab\")\n",
    "    COLAB = False"
   ]
  },
  {
   "cell_type": "markdown",
   "metadata": {
    "id": "1yqlUD4sdiDk"
   },
   "source": [
    "# Modulo 7.2: Entrenar StyleGAN2 con tus imagenes\n",
    "\n",
    "Entrenar GAN con StyleGAN requiere muchos recursos. Para las GAN faciales de alta resolución entrenadas por NVIDIA, los investigadores usaron computadoras con 8 GPU de gama alta. La GPU utilizada por NVIDIA es una A100, que tiene más memoria y núcleos que la P100 o la V100 que ofrece incluso Colab Pro+. En esta parte, usaremos StyleGAN2 para entrenar, en lugar de StyleGAN3. Puede usar redes entrenadas con StyleGAN2 de StyleGAN3; sin embargo, no se entrenarán tan bien como StyleGAN3.\n",
    "\n",
    "Desafortunadamente, StyleGAN3 requiere un uso intensivo de cómputo y funcionará lentamente en cualquier GPU que no tenga la última tecnología de Ampere. Debido a que Colab no proporciona dicha tecnología, la guía de capacitación utilizara el nivel StyleGAN2.\n",
    "\n",
    "Asegúrese de estar ejecutando este portátil con un tiempo de ejecución de GPU. Los GAN se pueden entrenar con Google Colab Free o Pro. Recomiendo al menos la versión Pro debido a mejores instancias de GPU, tiempos de ejecución más largos y tiempos de espera.\n",
    "\n",
    "\n",
    "Sus datos de entrenamiento y redes neuronales entrenadas se almacenarán en GDRIVE. Para GAN, diseño mi GDRIVE de esta manera:\n",
    "\n",
    "* ./data/gan/images: imágenes RAW en las que deseo entrenar.\n",
    "* ./data/gan/datasets: conjuntos de datos de entrenamiento reales que convierto a partir de las imágenes sin procesar.\n",
    "* ./data/gan/experiments: la salida de StyleGAN2, mis vistas previas de imágenes y las instantáneas de red guardadas.\n",
    "\n",
    "La unidad se monta en la siguiente ubicación.\n",
    "\n",
    "```\n",
    "/content/drive/MyDrive/data\n",
    "```\n",
    "\n",
    "### ¿Qué tipo de GPU tienes?\n",
    "\n",
    "Por lo general el CoLab gratuito nos otorga una GPU T4.\n",
    "\n",
    "* 1024x1024 - T4 - 2188 sec/tick (CoLab Free)\n",
    "\n",
    "By comparison, a 1024x1024 GAN trained with StyleGAN3 on a V100 is 3087 sec/tick.\n",
    "\n",
    "CoLab gratuito desconectará un script en ejecución perfectamente bueno si no interactúa durante unas horas. A continuación se describe cómo solventar este problema.\n",
    "\n",
    "* [¿Cómo evitar que Google Colab se desconecte?](https://stackoverflow.com/questions/57113226/how-to-prevent-google-colab-from-disconnecting)\n"
   ]
  },
  {
   "cell_type": "code",
   "execution_count": 1,
   "metadata": {
    "id": "9LVr5sV8CKz0"
   },
   "outputs": [
    {
     "name": "stdout",
     "output_type": "stream",
     "text": [
      "\u001b[31mERROR: Could not find a version that satisfies the requirement torch==1.8.1 (from versions: 1.9.0, 1.10.0, 1.10.1)\u001b[0m\n",
      "\u001b[31mERROR: No matching distribution found for torch==1.8.1\u001b[0m\n",
      "Cloning into 'stylegan2-ada-pytorch'...\n",
      "remote: Enumerating objects: 128, done.\u001b[K\n",
      "remote: Total 128 (delta 0), reused 0 (delta 0), pack-reused 128\u001b[K\n",
      "Receiving objects: 100% (128/128), 1.12 MiB | 2.33 MiB/s, done.\n",
      "Resolving deltas: 100% (58/58), done.\n",
      "Requirement already satisfied: ninja in /Users/jeff/miniforge3/lib/python3.9/site-packages (1.10.2.2)\n"
     ]
    }
   ],
   "source": [
    "!pip install torch==1.8.1 torchvision==0.9.1\n",
    "!git clone https://github.com/NVlabs/stylegan2-ada-pytorch.git\n",
    "!pip install ninja"
   ]
  },
  {
   "cell_type": "markdown",
   "metadata": {
    "id": "oBwmbfKJCORs"
   },
   "source": [
    "### Encuentra tus archivos\n",
    "\n",
    "La unidad se monta en la siguiente ubicación.\n",
    "\n",
    "```\n",
    "/content/drive/MyDrive/data\n",
    "```\n",
    "\n",
    "Puede ser útil usar un comando ```ls``` para establecer la ruta exacta de sus imágenes."
   ]
  },
  {
   "cell_type": "code",
   "execution_count": null,
   "metadata": {
    "id": "wwpXtlrCCRHe"
   },
   "outputs": [],
   "source": [
    "!ls /content/drive/MyDrive/data/gan/images"
   ]
  },
  {
   "cell_type": "markdown",
   "metadata": {
    "id": "rl6ShUWrCUrV"
   },
   "source": [
    "### Convierte tus imágenes"
   ]
  },
  {
   "cell_type": "code",
   "execution_count": null,
   "metadata": {
    "id": "qOK8m0N-Caqa"
   },
   "outputs": [],
   "source": [
    "!python /content/stylegan2-ada-pytorch/dataset_tool.py --source /content/drive/MyDrive/data/gan/images/circuit --dest /content/drive/MyDrive/data/gan/dataset/circuit"
   ]
  },
  {
   "cell_type": "markdown",
   "metadata": {
    "id": "LDbsiP35CdgK"
   },
   "source": [
    "El siguiente comando se puede utilizar para borrar el conjunto de datos recién creado. Si algo sale mal y necesita limpiar sus imágenes y volver a ejecutar el comando anterior, debe eliminar su directorio de conjunto de datos creado parcialmente."
   ]
  },
  {
   "cell_type": "code",
   "execution_count": null,
   "metadata": {
    "id": "bpF072wiCgys"
   },
   "outputs": [],
   "source": [
    "#!rm -R /content/drive/MyDrive/data/gan/dataset/circuit/*"
   ]
  },
  {
   "cell_type": "code",
   "execution_count": null,
   "metadata": {},
   "outputs": [],
   "source": [
    "import torch, dnnlib\n",
    "def expand_seed(seeds, vector_size):\n",
    "  result = []\n",
    "\n",
    "  for seed in seeds:\n",
    "    rnd = np.random.RandomState(seed)\n",
    "    result.append( rnd.randn(1, vector_size) ) \n",
    "  return result\n",
    "\n",
    "URL = \"https://github.com/jeffheaton/pretrained-gan-fish/releases/\"\\\n",
    " \"download/1.0.0/fish-gan-2020-12-09.pkl\"\n",
    "\n",
    "print(f'Loading networks from \"{URL}\"...')\n",
    "device = torch.device('cuda')\n",
    "with dnnlib.util.open_url(URL) as f:\n",
    "    G = legacy.load_network_pkl(f)['G_ema'].to(device) # type: ignore\n",
    "\n",
    "vector_size = G.z_dim\n",
    "# range(8192,8300)\n",
    "seeds = expand_seed( [8192+1,8192+9], vector_size)\n",
    "#generate_images(Gs, seeds,truncation_psi=0.5)\n",
    "print(seeds[0].shape)"
   ]
  },
  {
   "cell_type": "markdown",
   "metadata": {
    "id": "L7sUkkb-CkrS"
   },
   "source": [
    "# Limpia tus imágenes\n",
    "\n",
    "Es importante que todas las imágenes tengan las mismas dimensiones y profundidad de color. Este código puede identificar imágenes que tienen problemas."
   ]
  },
  {
   "cell_type": "code",
   "execution_count": null,
   "metadata": {
    "id": "QuWfEfEoColz"
   },
   "outputs": [],
   "source": [
    "from os import listdir\n",
    "from os.path import isfile, join\n",
    "import os\n",
    "from PIL import Image\n",
    "from tqdm.notebook import tqdm\n",
    "\n",
    "IMAGE_PATH = '/content/drive/MyDrive/data/gan/images/fish'\n",
    "files = [f for f in listdir(IMAGE_PATH) if isfile(join(IMAGE_PATH, f))]\n",
    "\n",
    "base_size = None\n",
    "for file in tqdm(files):\n",
    "  file2 = os.path.join(IMAGE_PATH,file)\n",
    "  img = Image.open(file2)\n",
    "  sz = img.size\n",
    "  if base_size and sz!=base_size:\n",
    "    print(f\"Inconsistant size: {file2}\")\n",
    "  elif img.mode!='RGB':\n",
    "    print(f\"Inconsistant color format: {file2}\")\n",
    "  else:\n",
    "    base_size = sz\n"
   ]
  },
  {
   "cell_type": "markdown",
   "metadata": {
    "id": "_HyFZgnjCsPb"
   },
   "source": [
    "### Realizar entrenamiento inicial\n",
    "\n",
    "Este código realiza el entrenamiento inicial. Configure SNAP lo suficientemente bajo como para obtener una instantánea antes de que Colab lo obligue a salir."
   ]
  },
  {
   "cell_type": "code",
   "execution_count": null,
   "metadata": {
    "id": "4-ZBcql7Cv14"
   },
   "outputs": [],
   "source": [
    "import os\n",
    "\n",
    "# Modifique estas para satisfacer sus necesidades.\n",
    "EXPERIMENTS = \"/content/drive/MyDrive/data/gan/experiments\"\n",
    "DATA = \"/content/drive/MyDrive/data/gan/dataset/circuit\"\n",
    "SNAP = 10\n",
    "\n",
    "# Cree el comando y ejecútelo\n",
    "cmd = f\"/usr/bin/python3 /content/stylegan2-ada-pytorch/train.py --snap {SNAP} --outdir {EXPERIMENTS} --data {DATA}\"\n",
    "!{cmd}"
   ]
  },
  {
   "cell_type": "markdown",
   "metadata": {
    "id": "JhOQRZrJDCvA"
   },
   "source": [
    "# Reanudar el entrenamiento\n",
    "\n",
    "Ahora puede reanudar el entrenamiento después de que algo lo interrumpa en el paso anterior."
   ]
  },
  {
   "cell_type": "code",
   "execution_count": null,
   "metadata": {
    "id": "P1TFgr9MDJlS"
   },
   "outputs": [],
   "source": [
    "import os\n",
    "\n",
    "# Modifique estas para satisfacer sus necesidades.\n",
    "EXPERIMENTS = \"/content/drive/MyDrive/data/gan/experiments\"\n",
    "NETWORK = \"network-snapshot-000100.pkl\"\n",
    "RESUME = os.path.join(EXPERIMENTS, \"00008-circuit-auto1-resumecustom\", NETWORK)\n",
    "DATA = \"/content/drive/MyDrive/data/gan/dataset/circuit\"\n",
    "SNAP = 10\n",
    "\n",
    "# Cree el comando y ejecútelo\n",
    "cmd = f\"/usr/bin/python3 /content/stylegan2-ada-pytorch/train.py --snap {SNAP} --resume {RESUME} --outdir {EXPERIMENTS} --data {DATA}\"\n",
    "!{cmd}"
   ]
  }
 ],
 "metadata": {
  "anaconda-cloud": {},
  "colab": {
   "collapsed_sections": [],
   "name": "Copy of t81_558_class_07_2_train_gan.ipynb",
   "provenance": []
  },
  "interpreter": {
   "hash": "6479d87699cb8c499e65e84f3f12dbc846c083a26068971b19c2ad966e60da5c"
  },
  "kernelspec": {
   "display_name": "Python 3.9 (tensorflow)",
   "language": "python",
   "name": "python3"
  },
  "language_info": {
   "codemirror_mode": {
    "name": "ipython",
    "version": 3
   },
   "file_extension": ".py",
   "mimetype": "text/x-python",
   "name": "python",
   "nbconvert_exporter": "python",
   "pygments_lexer": "ipython3",
   "version": "3.9.5"
  }
 },
 "nbformat": 4,
 "nbformat_minor": 1
}
