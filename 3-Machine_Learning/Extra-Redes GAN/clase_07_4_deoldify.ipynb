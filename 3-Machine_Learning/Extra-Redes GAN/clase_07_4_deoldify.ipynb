{
 "cells": [
  {
   "cell_type": "markdown",
   "metadata": {
    "id": "Kk2klRRsMoZG"
   },
   "source": [
    "<a href=\"https://colab.research.google.com/github/JuanManiglia/Guia_Tensorflow_Keras/blob/main/Clase_07/clase_07_4_deoldify.ipynb\" target=\"_parent\"><img src=\"https://colab.research.google.com/assets/colab-badge.svg\" alt=\"Open In Colab\"/></a>"
   ]
  },
  {
   "cell_type": "markdown",
   "metadata": {
    "id": "sZbuQeUcMoZI"
   },
   "source": [
    "**Modulo 7 : GANs**\n",
    "* Instructor: [Juan Maniglia](https://juanmaniglia.github.io)"
   ]
  },
  {
   "cell_type": "markdown",
   "metadata": {
    "id": "rUNJ5dwcMoZJ"
   },
   "source": [
    "# Modulo 7.4: GANS para mejorar fotografías antiguas Deoldify\n",
    "\n",
    "En las dos últimas partes de este módulo, examinaremos dos aplicaciones de GAN. La primera aplicación se llama [deoldify](https://deoldify.ai/), que utiliza una GAN basada en PyTorch para transformar fotografías antiguas en imágenes de aspecto más moderno."
   ]
  },
  {
   "cell_type": "code",
   "execution_count": null,
   "metadata": {
    "colab": {
     "base_uri": "https://localhost:8080/"
    },
    "id": "of8TRxeDMoZK",
    "outputId": "ad3f1dcc-af61-475c-cf76-230d06f3731c"
   },
   "outputs": [],
   "source": [
    "!git clone https://github.com/jantic/DeOldify.git DeOldify\n",
    "%cd DeOldify "
   ]
  },
  {
   "cell_type": "markdown",
   "metadata": {
    "id": "_i9I3dYkWy6u"
   },
   "source": [
    "Instale los paquetes de Python adicionales necesarios."
   ]
  },
  {
   "cell_type": "code",
   "execution_count": null,
   "metadata": {
    "colab": {
     "base_uri": "https://localhost:8080/",
     "height": 1000
    },
    "id": "qQP1eLYsPf1s",
    "outputId": "18fc3200-7ca7-4175-d5ae-e3011ebe3e1c"
   },
   "outputs": [],
   "source": [
    "!pip install -r colab_requirements.txt"
   ]
  },
  {
   "cell_type": "markdown",
   "metadata": {
    "id": "v2V3isvuW3S5"
   },
   "source": [
    "Instale los pesos preentrenados para desoldificar."
   ]
  },
  {
   "cell_type": "code",
   "execution_count": null,
   "metadata": {
    "colab": {
     "base_uri": "https://localhost:8080/"
    },
    "id": "vH1T2uJLP7-K",
    "outputId": "1af8b71c-eb9c-49e2-f2a9-1cc1a9572571"
   },
   "outputs": [],
   "source": [
    "!mkdir './models/'\n",
    "!wget https://data.deepai.org/deoldify/ColorizeArtistic_gen.pth -O ./models/ColorizeArtistic_gen.pth"
   ]
  },
  {
   "cell_type": "markdown",
   "metadata": {
    "id": "vjx3-yskW79W"
   },
   "source": [
    "Los autores de deoldify sugieren que es posible que desee incluir una marca de agua para que otros sepan que la IA mejoró esta imagen. El siguiente código descarga esta marca de agua estándar. Los autores describen la marca de agua de la siguiente manera:\n",
    "\n",
    "\"Esto coloca un ícono de marca de agua de una paleta en la esquina inferior izquierda de la imagen. Esta pretende ser una forma estándar de transmitir a otras personas que ven la imagen que está coloreada por IA. Queremos ayudar a promover esto como un estándar, especialmente a medida que la tecnología continúa mejorando y la distinción entre real y falso se vuelve más difícil de discernir Esta práctica de marca de agua de paleta fue iniciada y dirigida por la compañía MyHeritage en la función MyHeritage In Color (que usa una versión más nueva de DeOldify que la que está usando aquí)\"."
   ]
  },
  {
   "cell_type": "code",
   "execution_count": null,
   "metadata": {
    "colab": {
     "base_uri": "https://localhost:8080/"
    },
    "id": "kbQ-SJlOVmC2",
    "outputId": "67c12d47-f1c9-47bc-dfb9-dc4feeb25361"
   },
   "outputs": [],
   "source": [
    "!wget https://media.githubusercontent.com/media/jantic/DeOldify/master/resource_images/watermark.png -O /content/DeOldify/resource_images/watermark.png"
   ]
  },
  {
   "cell_type": "markdown",
   "metadata": {
    "id": "3Z6aT7_RTqC9"
   },
   "source": [
    "### Inicializar dispositivo Torch\n",
    "\n",
    "Primero, debemos inicializar un dispositivo Torch. Si tenemos una GPU disponible, la detectaremos aquí. Supongo que ejecutará este código desde Google CoLab, con una GPU. Es posible ejecutar este código desde una GPU local; sin embargo, será necesaria alguna modificación."
   ]
  },
  {
   "cell_type": "code",
   "execution_count": null,
   "metadata": {
    "colab": {
     "base_uri": "https://localhost:8080/"
    },
    "id": "luqoHzqsNfci",
    "outputId": "727d4e55-1758-4939-e4ce-ad5a30648357"
   },
   "outputs": [],
   "source": [
    "import sys\n",
    "\n",
    "#NOTE:  This must be the first call in order to work properly!\n",
    "from deoldify import device\n",
    "from deoldify.device_id import DeviceId\n",
    "#choices:  CPU, GPU0...GPU7\n",
    "device.set(device=DeviceId.GPU0)\n",
    "\n",
    "import torch\n",
    "\n",
    "if not torch.cuda.is_available():\n",
    "  print('GPU not available.')\n",
    "else:\n",
    "  print('Using GPU.')"
   ]
  },
  {
   "cell_type": "code",
   "execution_count": null,
   "metadata": {
    "colab": {
     "base_uri": "https://localhost:8080/",
     "height": 774
    },
    "id": "4OlPl8aePTcO",
    "outputId": "65954fb2-bffb-465a-c908-3269e224ea03"
   },
   "outputs": [],
   "source": [
    "import fastai\n",
    "from deoldify.visualize import *\n",
    "import warnings\n",
    "warnings.filterwarnings(\"ignore\", category=UserWarning, message=\".*?Your .*? set is empty.*?\")\n",
    "\n",
    "URL = 'https://github.com/JuanManiglia/Guia_Tensorflow_Keras/blob/main/Clase_07/the_beatles.jpg?raw=true' \n",
    "RENDER_FACTOR = 35  \n",
    "WATERMARK = False\n",
    "\n",
    "colorizer = get_image_colorizer(artistic=True)\n",
    "\n",
    "image_path = colorizer.plot_transformed_image_from_url(\n",
    "    url=URL, render_factor=RENDER_FACTOR, \n",
    "    compare=True, \n",
    "    watermarked=WATERMARK)\n",
    "show_image_in_notebook(image_path)\n"
   ]
  }
 ],
 "metadata": {
  "accelerator": "GPU",
  "anaconda-cloud": {},
  "colab": {
   "collapsed_sections": [],
   "name": "t81_558_class_07_4_deoldify.ipynb",
   "provenance": []
  },
  "interpreter": {
   "hash": "6479d87699cb8c499e65e84f3f12dbc846c083a26068971b19c2ad966e60da5c"
  },
  "kernelspec": {
   "display_name": "Python 3.9 (tensorflow)",
   "language": "python",
   "name": "python3"
  },
  "language_info": {
   "codemirror_mode": {
    "name": "ipython",
    "version": 3
   },
   "file_extension": ".py",
   "mimetype": "text/x-python",
   "name": "python",
   "nbconvert_exporter": "python",
   "pygments_lexer": "ipython3",
   "version": "3.9.5"
  }
 },
 "nbformat": 4,
 "nbformat_minor": 1
}
