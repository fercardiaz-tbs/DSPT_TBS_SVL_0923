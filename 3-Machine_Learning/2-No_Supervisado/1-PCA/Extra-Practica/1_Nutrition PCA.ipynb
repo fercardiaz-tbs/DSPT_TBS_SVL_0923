{
 "cells": [
  {
   "cell_type": "markdown",
   "metadata": {},
   "source": [
    "# Principal Components Analysis Nutrition Exercise\n",
    "En este ejercicio no vas a montar ningún modelo de Machine Learning supervisado, sino aprenderás a trabajar con PCA: pretratar el dato antes de calcular sus PCs, interpretarlos, graficar y escoger número de componentes según varianza.\n",
    "\n",
    "Importa las librerías necesarias"
   ]
  },
  {
   "cell_type": "code",
   "execution_count": null,
   "metadata": {},
   "outputs": [],
   "source": [
    "import pandas as pd\n",
    "import numpy as np\n",
    "from sklearn.decomposition import PCA\n",
    "from sklearn.preprocessing import StandardScaler\n",
    "import matplotlib.pyplot as plt\n",
    "import seaborn as sns"
   ]
  },
  {
   "cell_type": "markdown",
   "metadata": {},
   "source": [
    "### Importa los datos\n",
    "1. Importa los datos: *nndb.csv*\n",
    "2. Observa las columnas que hay, así como su tipo."
   ]
  },
  {
   "cell_type": "markdown",
   "metadata": {},
   "source": [
    "### Mira a ver la correlación entre las variables numéricas\n",
    "¿Qué pasa con las columnas USRDA? ¿Hay que tomar alguna decisión?"
   ]
  },
  {
   "cell_type": "markdown",
   "metadata": {},
   "source": [
    "### Variables no numéricas\n",
    "Elimina las variables de texto del dataset"
   ]
  },
  {
   "cell_type": "markdown",
   "metadata": {},
   "source": [
    "### Distribuciones\n",
    "Muchas de las variables tienen asimetría hacia la derecha. Deberíamos transformarlas para conseguir distribuciones normales y mejorar las correlaciones de cara al PCA y a futuros modelos lineales que vayamos a probar. Transforma todas las variables\n",
    "Most of the variables are \"zero\" inflated and skewed right. We may want to consider transformation so \"improve\" the distributions and hopefully produce better correlations for our PCA. Note: this is an optional step that may not always improve results.\n",
    "\n",
    "Podemos realizar una transformación Logarítmica\n",
    "\n",
    "Nota: Como tenemos muchos ceros en nuestro df, podemos sumarle 1 para evitar este problema (indeterminación, infinito).\n",
    "\n",
    "(df = df + 1)"
   ]
  },
  {
   "cell_type": "markdown",
   "metadata": {},
   "source": [
    "### Estandarizado\n",
    "Estandariza cada variable.\n",
    "\n",
    "No es necesario que dividas en train y test."
   ]
  },
  {
   "cell_type": "markdown",
   "metadata": {},
   "source": [
    "### Implementación del PCA\n",
    "Prueba a montar un PCA con todos los componentes. Para ello utiliza los datos previamente transformados y escalados."
   ]
  },
  {
   "cell_type": "markdown",
   "metadata": {},
   "source": [
    "### Aportación de cada PCA\n",
    "Visualiza en un diagrama de líneas la suma acumulada de la varianza explicativa del PCA.\n",
    "\n",
    "Si tuviéses que quedarte con 70-75 % de la varianza original, ¿con cuántos Principal Components te quedarías?"
   ]
  },
  {
   "cell_type": "markdown",
   "metadata": {},
   "source": [
    "## Feat. Red\n",
    "Crea un nuevo PCA con X Principal Components, siendo X la cantidad de PC escogidos en el apartado anterior.\n",
    "\n",
    "Obtén el nuevo dataset con el mismo número de registros que el original, pero en este caso con X features, que representan los PC elegidos."
   ]
  },
  {
   "cell_type": "markdown",
   "metadata": {},
   "source": [
    "### ¿Qué grupo de comida tiene los valores más altos en cada categoría?\n",
    "Determina para cada Principal Component, los 3 grupos de comida (*FoodGroup*) con los valores del PC más altos."
   ]
  }
 ],
 "metadata": {
  "kernelspec": {
   "display_name": "Python 3",
   "language": "python",
   "name": "python3"
  },
  "language_info": {
   "codemirror_mode": {
    "name": "ipython",
    "version": 3
   },
   "file_extension": ".py",
   "mimetype": "text/x-python",
   "name": "python",
   "nbconvert_exporter": "python",
   "pygments_lexer": "ipython3",
   "version": "3.8.10"
  },
  "vscode": {
   "interpreter": {
    "hash": "31f2aee4e71d21fbe5cf8b01ff0e069b9275f58929596ceb00d14d90e3e16cd6"
   }
  }
 },
 "nbformat": 4,
 "nbformat_minor": 4
}
