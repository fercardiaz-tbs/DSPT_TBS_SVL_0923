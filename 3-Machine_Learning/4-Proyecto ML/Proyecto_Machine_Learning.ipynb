{
 "cells": [
  {
   "attachments": {},
   "cell_type": "markdown",
   "metadata": {},
   "source": [
    "# Proyecto Machine Learning\n",
    "Para el tercer módulo del bootcamp de Data Science tendrás que desarrollar un modelo de machine learning con los datos obtenidos en la etapa de Data Analysis (o con datos nuevos).\n",
    "\n",
    "* **Miembros**: El proyecto es individual\n",
    "* **Datos**: origen en proyecto de EDA, siempre que tenga sentido. Si no, buscar en Kaggle (u otras fuentes), Apis o Webscrapping un tema que te interese. El volumen de los datos no debe ser inferior a **1.000 observaciones**.\n",
    "\n",
    "**Fecha límite de entrega y presentación:** 1 de marzo 2024\n",
    "\n",
    "## Objetivo\n",
    "El objetivo de este proyecto es crear un modelo predictivo de Machine Learning utilizando los datos conseguidos en la etapa de Data Analysis o explorando nuevos datasets.\n",
    "\n",
    "Tienes que desarrollar un workflow de Machine Learning: recogida de datos, limpieza, EDA, feature engineering, prueba de varios modelos, interpretación de variables e impacto de negocio.\n",
    "Habrá que aplicar conocimientos aprendidos hasta ahora de programación, limpieza de datos, visualización y modelado. Tenéis la oportunidad de demostrar vuestra evolución y el trabajo realizado en durante el espacio de tiempo que se te ofrece (no queremos proyectos de un fin de semana).\n",
    "\n",
    "\n",
    "## Evaluación\n",
    "- **Presentación (50%)** entre 10 y 15 minutos máximo! donde expondrás tu caso.\n",
    "- **Código (50%)** donde el 30% será evaluado del project_resume.ipynb. Este gran esfuerzo tiene que ser compartido y tendrás que crear un repositorio en GitHub para ir añadiendo tus proyectos personales. En caso de que el proyecto se componga de datos sensibles o no se quiera publicar, se puede mantener en repositorio privado (consultar profesores).\n",
    "\n",
    "## Entregables \n",
    "\n",
    "\n",
    "Consistirá en subir a Google Classroom un Github_rep.txt con el repositorio de tu github con el código desarrollado.\n",
    "\n",
    "El codigo deberá seguir la siguiente estructura de carpetas:\n",
    "1. src/: aquí irá todo el código\n",
    "2. src/utils: todos los modulos y funciones auxiliares creados para el desarrollo del proyecto.\n",
    "3. src/data/raw: los datasets en crudo de datos necesarios para empezar con el análisis y el modelo. Es posible que no te los deje subir a GitHub si los archivos demasiado pesados, omitir en ese caso.\n",
    "4. src/data/processed: datos ya limpios que son los utilizados en el entrenamiento del modelo.\n",
    "5. src/notebooks: notebooks de limpieza, procesado, EDA y modelos de Machine Learning.\n",
    "6. src/notebooks/project_resume.ipynb: notebook limpio donde resumas los pasos que has seguido en el proyecto y sirva como memoria del proyecto.\n",
    "7. src/train.py: entrenamiento del modelo en un script, en vez de notebook. Este script tiene que entrenar el modelo y guardarlo como new_model.\n",
    "8. src/model: guarda aquí tus modelos ya entrenados y listos para poner en producción. El modelo elegido lo nombraremos como my_model.\n",
    "9. Si utilizáis tableau u otra herramienta, añade en la carpeta \"resources/\" una carpeta llamada \"tableau/\" (o nombre de herramienta) con el archivo o archivos necesarios para que podamos ejecutarlo.\n",
    "\n",
    "**GitHub**: hay que crear un README con una descripción de tu proyecto. Breve. Si ya tienes un repo de proyectos, añádelo y actualiza el README. El objetivo de este README es enterarse de forma rápida de qué va tu proyecto y qué tecnologías has utilizado para llevarlo a cabo, no es más que un escaparate de tu trabajo. Hay que ir documentando bien los trabajos para acabar el bootcamp con un buen portfolio. En [este enlace](https://github.com/alexhuang1117/Data-Science-Portfolio) tienes un ejemplo de cómo tener documentados los proyectos en tu GitHub. Encontrarás en los notebooks de markdown de clase todo lo que necesitas para crear un README decente.\n",
    "\n",
    "Se evaluará ese mismo día la correcta implementación del código, por lo tanto tendrás que ser muy estricto con la estructura y condiciones que se te piden en el enunciado."
   ]
  },
  {
   "cell_type": "markdown",
   "metadata": {},
   "source": [
    "## Presentación\n",
    "Se complica la presentación con respecto a la de EDA ya que hay que contar algo mucho más técnico. Empieza como en el EDA, exponiendo el caso, y desarrolla la solución de ML para tus datos. Tendrás que responder en tu presentación a algunas preguntas clave:\n",
    "- ¿Qué problema o necesidad vamos a resolver? ¿Podemos solucionarlo con ML?\n",
    "- ¿Qué solución aporta tu modelo de ML?\n",
    "- ¿Qué modelos has probado? \n",
    "- ¿Qué resultados y conclusiones has obtenido? \n",
    "- ¿Cuáles han sido las variables de mayor impacto? \n",
    "- ¿Qué decisiones o acciones te permiten llevar a cabo tu modelo? ¿Qué consecuencias tiene en negocio?\n",
    "\n",
    "**¿Formatos de la presentación?** Nada de Notebooks, ni informes en pdf o HTML. Formato presentación en PowerPoint, Prezi o la plataforma que mejor conozcas, siendo perfectamente combinable con un dashboard desarrollado mediante alguna de las herramientas aprendidas durante el curso (Tableau, Streamlit, Plotly...).\n",
    "\n",
    "**Consejos**: Si usas un PowerPoint... será tu apoyo a la hora de presentar, aquí el protagonista es tu discurso. Por favor, que la presentación no sea un conjunto de puntos inconexos, intenta llevar un hilo, como si de una historia se tratase. Véndete, destaca las fortalezas de tu trabajo sobre las debilidades. Interactúa con el público. Si vas a contar algo de negocio, ¿puedes traducirlo a números? ¿Qué impacto tendrá tu analítica?. Muestra algunos datos concretos (estadísticos simples) para justificar tu business case o para cerrar tu presentación. Si has elegido una temática que está acorde con tus gustos/background, aprovecha al principio para contarlo y empatizar mucho más con el público. Si vas a hacer una demo, grábala por si te falla algo en la presentación (conexión a Internet). Prepárate las respuestas a algunas posibles preguntas en un anexo de la presentación.\n",
    "\n",
    "**NOTA**: existen muchas plantillas gratuitas en la web para hacer presentaciones. [Aquí tienes unas cuantas](https://www.free-powerpoint-templates-design.com/free-powerpoint-templates-design/).\n",
    "\n",
    "[Y en este enlace](https://slidesgo.com/es/)\n",
    "\n",
    "[Aquí también](https://www.slidescarnival.com/es)\n",
    "\n",
    "## Pasos del proyecto\n",
    "1. Consigue los datos\n",
    "1. Define tu problema de Machine Learning: clasifiación/regresión, supervisado/ no supervisado, series temporales, imágenes, texto...\n",
    "1. Exploratorio: obtén todos los estadísticos y gráficos que necesites para entender bien tu dataset.\n",
    "1. Limpia los datos: duplicados, missings, outliers, columnas inútiles...\n",
    "1. Feature engineering: transformación y creación de nuevas variables.\n",
    "1. Prueba varios modelos\n",
    "1. Analiza los resultados mediante una métrica adecuada a tu problemática.\n",
    "1. Interpreta los resultados y comprende los outputs del modelo.\n",
    "1. Siguientes pasos. ¿Se puede enriquecer el modelo con otras pruebas o con otros datos?\n",
    "1. Bonus track (opcional): monta un dashboard/informe donde se vea cómo aprende tu modelo, qué hiperparámetros usa y resultados obtenidos."
   ]
  }
 ],
 "metadata": {
  "kernelspec": {
   "display_name": "Python 3",
   "language": "python",
   "name": "python3"
  },
  "language_info": {
   "codemirror_mode": {
    "name": "ipython",
    "version": 3
   },
   "file_extension": ".py",
   "mimetype": "text/x-python",
   "name": "python",
   "nbconvert_exporter": "python",
   "pygments_lexer": "ipython3",
   "version": "3.7.4"
  }
 },
 "nbformat": 4,
 "nbformat_minor": 4
}
