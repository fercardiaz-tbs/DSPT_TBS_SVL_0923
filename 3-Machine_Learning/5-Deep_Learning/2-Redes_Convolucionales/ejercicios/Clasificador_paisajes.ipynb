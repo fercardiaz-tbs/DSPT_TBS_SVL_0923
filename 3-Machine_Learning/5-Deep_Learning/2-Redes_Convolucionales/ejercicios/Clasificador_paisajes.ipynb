{
 "cells": [
  {
   "cell_type": "markdown",
   "metadata": {},
   "source": [
    "# Clasificador paisajes\n",
    "Para este ejercicio vas a crear un clasificador automático de paisajes. Los datos los encontrarás en el Classroom como `seg_train.zip` y `seg_test.zip`. Se pide:\n",
    "1. Cargar las imágenes. Mira cómo están almacenados los datos. Tendrás que recorrer las carpetas, cargar las imágenes en memoria y etiquetarlas con los nombres de las carpetas. Realiza un reshape de cada imagen (comienza el ejercicio con 32x32, para ir más rápido en las ejecuciones).\n",
    "2. Investiga las imágenes, comprueba con algunas muestras que has cargado bien los datos.\n",
    "3. Normaliza\n",
    "4. Diseña la arquitectura de la red. Recuerda que es un algiritmo de clasificación. Ojo con las dimensiones de la entrada\n",
    "5. Reserva un 20% de los datos del entrenamiento para validar.\n",
    "6. Representa el objeto history\n",
    "7. Evalua el modelo con los datos de test\n",
    "8. Representa algunos de los paisajes donde el modelo comete errores\n",
    "9. Crea una matriz de confusión con los errores del modelo\n",
    "\n",
    "**NOTA apartado 1**: para el apartado 1 tendras que recorre las carpetas/imagenes con `os.listdir()`, e ir cargando todas las imagenes como arrays de numpy\n",
    "\n",
    "**NOTA apartado 4**: empieza con un par de capas Conv2D + MaxPooling2D con activación relu y después la fully connected layer. on softmax como ultima capa"
   ]
  },
  {
   "cell_type": "code",
   "execution_count": 1,
   "metadata": {},
   "outputs": [],
   "source": [
    "import numpy as np\n",
    "import pandas as pd\n",
    "import os\n",
    "import matplotlib.pyplot as plt\n",
    "import cv2\n",
    "import tensorflow as tf"
   ]
  },
  {
   "cell_type": "code",
   "execution_count": 2,
   "metadata": {},
   "outputs": [],
   "source": [
    "class_names = ['mountain','street','glacier', 'buildings','sea','forest']\n",
    "\n",
    "IMAGE_SIZE = (32,32)"
   ]
  },
  {
   "cell_type": "code",
   "execution_count": 8,
   "metadata": {},
   "outputs": [
    {
     "data": {
      "text/plain": [
       "{'mountain': 0,\n",
       " 'street': 1,\n",
       " 'glacier': 2,\n",
       " 'buildings': 3,\n",
       " 'sea': 4,\n",
       " 'forest': 5}"
      ]
     },
     "execution_count": 8,
     "metadata": {},
     "output_type": "execute_result"
    }
   ],
   "source": [
    "class_names_label = {class_name:i for i ,class_name in enumerate(class_names)}\n",
    "class_names_label"
   ]
  },
  {
   "cell_type": "code",
   "execution_count": 5,
   "metadata": {},
   "outputs": [],
   "source": [
    "TRAIN_PATH = \"C:\\\\Users\\\\Miguel Angel\\\\Documents\\\\Bootcamp_DS_1_22\\\\datasets\\\\paisajes\\\\seg_train\"\n",
    "TEST_PATH = \"C:\\\\Users\\\\Miguel Angel\\\\Documents\\\\Bootcamp_DS_1_22\\\\datasets\\\\paisajes\\\\seg_test\""
   ]
  },
  {
   "cell_type": "code",
   "execution_count": 14,
   "metadata": {},
   "outputs": [
    {
     "name": "stdout",
     "output_type": "stream",
     "text": [
      "(14034, 32, 32, 3)\n",
      "(3000, 32, 32, 3)\n"
     ]
    }
   ],
   "source": [
    "def read_data(path, im_size, class_names_label):\n",
    "    X = []\n",
    "    y = []\n",
    "\n",
    "    for folder in os.listdir(path):\n",
    "        label = class_names_label[folder]\n",
    "        folder_path = os.path.join(path,folder)\n",
    "        # Iterar sobre todo lo que haya en path\n",
    "        for file in os.listdir(folder_path):\n",
    "            image_path = os.path.join(folder_path,file)\n",
    "            image = cv2.imread(image_path)\n",
    "            image = cv2.cvtColor(image, cv2.COLOR_BGR2RGB)\n",
    "            image = cv2.resize(image, im_size)\n",
    "            X.append(image)\n",
    "            y.append(label)\n",
    "    \n",
    "    \n",
    "    return np.array(X), np.array(y)\n",
    "    \n",
    "\n",
    "X_train, y_train = read_data(TRAIN_PATH, IMAGE_SIZE, class_names_label)\n",
    "X_test, y_test = read_data(TEST_PATH, IMAGE_SIZE, class_names_label)\n",
    "\n",
    "print(X_train.shape)\n",
    "print(X_test.shape)"
   ]
  },
  {
   "cell_type": "code",
   "execution_count": null,
   "metadata": {},
   "outputs": [],
   "source": []
  }
 ],
 "metadata": {
  "interpreter": {
   "hash": "7c77fdb427e7cbc9bc1367dd530fc2b36aacdbbde1ac83c85833b10dfa8b831c"
  },
  "kernelspec": {
   "display_name": "Python 3.7.4 64-bit",
   "language": "python",
   "name": "python3"
  },
  "language_info": {
   "codemirror_mode": {
    "name": "ipython",
    "version": 3
   },
   "file_extension": ".py",
   "mimetype": "text/x-python",
   "name": "python",
   "nbconvert_exporter": "python",
   "pygments_lexer": "ipython3",
   "version": "3.11.8"
  },
  "orig_nbformat": 4
 },
 "nbformat": 4,
 "nbformat_minor": 2
}
