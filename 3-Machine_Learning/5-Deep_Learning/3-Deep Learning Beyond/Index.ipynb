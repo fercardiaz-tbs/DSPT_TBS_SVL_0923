{
 "cells": [
  {
   "cell_type": "markdown",
   "metadata": {},
   "source": [
    "- Dot CSV Video: https://www.youtube.com/watch?v=sc_zOsnmMx0\n",
    "\t- Imagenes:\n",
    "\t\t- [DALL-E 2 y 3](https://www.midjourney.com/home) (Open IA)\n",
    "\t\t- [Midjouney](https://www.midjourney.com/home)\n",
    "\t\t- [StableDifussion](https://stability.ai/stable-image) (Open Source)\n",
    "\t\t\t- [Lexica](https://lexica.art/)\n",
    "\t- LLMs:\n",
    "\t\t- [Plugin data analysis Chat GPT](https://askyourpdf.com/blog/the-best-chatgpt-plugins-for-data-analysis)\n",
    "\t\t- [¿Prompt Engineering?](https://www.youtube.com/watch?v=qjnCYN3fhOA)\n",
    "\t\t\t- Piensa paso a paso, el mejor prompt que puedes usar\n",
    "\t\t- Chatgpt API\n",
    "\t\t\t- Playground: Temperature\n",
    "\t\t- Poe -> Agentes/Asistentes\n",
    "\t\t\t- [ButterflyEffectRPG](https://poe.com/ButterflyEffectRPG)\n",
    "- [Hugging Face](https://huggingface.co/) Vuestro punto de partida opensource para probar el DeepLearning actual\n",
    "- Which Face is Real: https://www.whichfaceisreal.com/\n",
    "\t- Style GAN: https://github.com/NVlabs/stylegan\n",
    "\t- New York Times: IA Faces: https://www.nytimes.com/interactive/2020/11/21/science/artificial-intelligence-fake-people-faces.html\n",
    "- QuickDraw Google: https://quickdraw.withgoogle.com/\n",
    "- Chema Alonso: [Los 10 errores de Chatgpt](https://www.youtube.com/watch?v=1mUZUCOyKYk)"
   ]
  }
 ],
 "metadata": {
  "language_info": {
   "name": "python"
  }
 },
 "nbformat": 4,
 "nbformat_minor": 2
}
