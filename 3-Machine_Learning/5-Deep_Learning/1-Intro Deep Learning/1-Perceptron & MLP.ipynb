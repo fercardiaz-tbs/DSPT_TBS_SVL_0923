{
 "cells": [
  {
   "cell_type": "markdown",
   "metadata": {},
   "source": [
    "## 1. Perceptron\n",
    "\n",
    "<img src=\"./img/perceptron-6168423.jpg\" alt=\"drawing\" width=\"650\"/>\n",
    "\n",
    "Empezamos cargando librerias"
   ]
  },
  {
   "cell_type": "code",
   "execution_count": 1,
   "metadata": {},
   "outputs": [
    {
     "name": "stderr",
     "output_type": "stream",
     "text": [
      "C:\\Users\\carra\\AppData\\Local\\Temp\\ipykernel_19424\\573954172.py:2: DeprecationWarning: \n",
      "Pyarrow will become a required dependency of pandas in the next major release of pandas (pandas 3.0),\n",
      "(to allow more performant data types, such as the Arrow string type, and better interoperability with other libraries)\n",
      "but was not found to be installed on your system.\n",
      "If this would cause problems for you,\n",
      "please provide us feedback at https://github.com/pandas-dev/pandas/issues/54466\n",
      "        \n",
      "  import pandas as pd\n"
     ]
    }
   ],
   "source": [
    "import numpy as np\n",
    "import pandas as pd\n",
    "import seaborn as sns"
   ]
  },
  {
   "cell_type": "markdown",
   "metadata": {},
   "source": [
    "Cargamos datos. Utilizaremos el dataset de pinguinos de seaborn"
   ]
  },
  {
   "cell_type": "code",
   "execution_count": 2,
   "metadata": {},
   "outputs": [
    {
     "data": {
      "text/html": [
       "<div>\n",
       "<style scoped>\n",
       "    .dataframe tbody tr th:only-of-type {\n",
       "        vertical-align: middle;\n",
       "    }\n",
       "\n",
       "    .dataframe tbody tr th {\n",
       "        vertical-align: top;\n",
       "    }\n",
       "\n",
       "    .dataframe thead th {\n",
       "        text-align: right;\n",
       "    }\n",
       "</style>\n",
       "<table border=\"1\" class=\"dataframe\">\n",
       "  <thead>\n",
       "    <tr style=\"text-align: right;\">\n",
       "      <th></th>\n",
       "      <th>species</th>\n",
       "      <th>island</th>\n",
       "      <th>bill_length_mm</th>\n",
       "      <th>bill_depth_mm</th>\n",
       "      <th>flipper_length_mm</th>\n",
       "      <th>body_mass_g</th>\n",
       "      <th>sex</th>\n",
       "    </tr>\n",
       "  </thead>\n",
       "  <tbody>\n",
       "    <tr>\n",
       "      <th>0</th>\n",
       "      <td>Adelie</td>\n",
       "      <td>Torgersen</td>\n",
       "      <td>39.1</td>\n",
       "      <td>18.7</td>\n",
       "      <td>181.0</td>\n",
       "      <td>3750.0</td>\n",
       "      <td>Male</td>\n",
       "    </tr>\n",
       "    <tr>\n",
       "      <th>1</th>\n",
       "      <td>Adelie</td>\n",
       "      <td>Torgersen</td>\n",
       "      <td>39.5</td>\n",
       "      <td>17.4</td>\n",
       "      <td>186.0</td>\n",
       "      <td>3800.0</td>\n",
       "      <td>Female</td>\n",
       "    </tr>\n",
       "    <tr>\n",
       "      <th>2</th>\n",
       "      <td>Adelie</td>\n",
       "      <td>Torgersen</td>\n",
       "      <td>40.3</td>\n",
       "      <td>18.0</td>\n",
       "      <td>195.0</td>\n",
       "      <td>3250.0</td>\n",
       "      <td>Female</td>\n",
       "    </tr>\n",
       "    <tr>\n",
       "      <th>3</th>\n",
       "      <td>Adelie</td>\n",
       "      <td>Torgersen</td>\n",
       "      <td>NaN</td>\n",
       "      <td>NaN</td>\n",
       "      <td>NaN</td>\n",
       "      <td>NaN</td>\n",
       "      <td>NaN</td>\n",
       "    </tr>\n",
       "    <tr>\n",
       "      <th>4</th>\n",
       "      <td>Adelie</td>\n",
       "      <td>Torgersen</td>\n",
       "      <td>36.7</td>\n",
       "      <td>19.3</td>\n",
       "      <td>193.0</td>\n",
       "      <td>3450.0</td>\n",
       "      <td>Female</td>\n",
       "    </tr>\n",
       "  </tbody>\n",
       "</table>\n",
       "</div>"
      ],
      "text/plain": [
       "  species     island  bill_length_mm  bill_depth_mm  flipper_length_mm  \\\n",
       "0  Adelie  Torgersen            39.1           18.7              181.0   \n",
       "1  Adelie  Torgersen            39.5           17.4              186.0   \n",
       "2  Adelie  Torgersen            40.3           18.0              195.0   \n",
       "3  Adelie  Torgersen             NaN            NaN                NaN   \n",
       "4  Adelie  Torgersen            36.7           19.3              193.0   \n",
       "\n",
       "   body_mass_g     sex  \n",
       "0       3750.0    Male  \n",
       "1       3800.0  Female  \n",
       "2       3250.0  Female  \n",
       "3          NaN     NaN  \n",
       "4       3450.0  Female  "
      ]
     },
     "execution_count": 2,
     "metadata": {},
     "output_type": "execute_result"
    }
   ],
   "source": [
    "df = sns.load_dataset(\"penguins\")\n",
    "df.head()"
   ]
  },
  {
   "cell_type": "code",
   "execution_count": 3,
   "metadata": {},
   "outputs": [
    {
     "name": "stdout",
     "output_type": "stream",
     "text": [
      "<class 'pandas.core.frame.DataFrame'>\n",
      "RangeIndex: 344 entries, 0 to 343\n",
      "Data columns (total 7 columns):\n",
      " #   Column             Non-Null Count  Dtype  \n",
      "---  ------             --------------  -----  \n",
      " 0   species            344 non-null    object \n",
      " 1   island             344 non-null    object \n",
      " 2   bill_length_mm     342 non-null    float64\n",
      " 3   bill_depth_mm      342 non-null    float64\n",
      " 4   flipper_length_mm  342 non-null    float64\n",
      " 5   body_mass_g        342 non-null    float64\n",
      " 6   sex                333 non-null    object \n",
      "dtypes: float64(4), object(3)\n",
      "memory usage: 18.9+ KB\n"
     ]
    }
   ],
   "source": [
    "df.info()"
   ]
  },
  {
   "cell_type": "code",
   "execution_count": 4,
   "metadata": {},
   "outputs": [
    {
     "name": "stderr",
     "output_type": "stream",
     "text": [
      "C:\\Users\\carra\\AppData\\Local\\Temp\\ipykernel_19424\\1709189040.py:10: FutureWarning: Downcasting behavior in `replace` is deprecated and will be removed in a future version. To retain the old behavior, explicitly call `result.infer_objects(copy=False)`. To opt-in to the future behavior, set `pd.set_option('future.no_silent_downcasting', True)`\n",
      "  df.replace(cleanup_nums, inplace=True)\n"
     ]
    },
    {
     "data": {
      "text/html": [
       "<div>\n",
       "<style scoped>\n",
       "    .dataframe tbody tr th:only-of-type {\n",
       "        vertical-align: middle;\n",
       "    }\n",
       "\n",
       "    .dataframe tbody tr th {\n",
       "        vertical-align: top;\n",
       "    }\n",
       "\n",
       "    .dataframe thead th {\n",
       "        text-align: right;\n",
       "    }\n",
       "</style>\n",
       "<table border=\"1\" class=\"dataframe\">\n",
       "  <thead>\n",
       "    <tr style=\"text-align: right;\">\n",
       "      <th></th>\n",
       "      <th>species</th>\n",
       "      <th>bill_length_mm</th>\n",
       "      <th>bill_depth_mm</th>\n",
       "      <th>flipper_length_mm</th>\n",
       "      <th>body_mass_g</th>\n",
       "      <th>sex</th>\n",
       "      <th>island_Biscoe</th>\n",
       "      <th>island_Dream</th>\n",
       "      <th>island_Torgersen</th>\n",
       "    </tr>\n",
       "  </thead>\n",
       "  <tbody>\n",
       "    <tr>\n",
       "      <th>0</th>\n",
       "      <td>0</td>\n",
       "      <td>39.1</td>\n",
       "      <td>18.7</td>\n",
       "      <td>181.0</td>\n",
       "      <td>3750.0</td>\n",
       "      <td>0</td>\n",
       "      <td>False</td>\n",
       "      <td>False</td>\n",
       "      <td>True</td>\n",
       "    </tr>\n",
       "    <tr>\n",
       "      <th>1</th>\n",
       "      <td>0</td>\n",
       "      <td>39.5</td>\n",
       "      <td>17.4</td>\n",
       "      <td>186.0</td>\n",
       "      <td>3800.0</td>\n",
       "      <td>1</td>\n",
       "      <td>False</td>\n",
       "      <td>False</td>\n",
       "      <td>True</td>\n",
       "    </tr>\n",
       "    <tr>\n",
       "      <th>2</th>\n",
       "      <td>0</td>\n",
       "      <td>40.3</td>\n",
       "      <td>18.0</td>\n",
       "      <td>195.0</td>\n",
       "      <td>3250.0</td>\n",
       "      <td>1</td>\n",
       "      <td>False</td>\n",
       "      <td>False</td>\n",
       "      <td>True</td>\n",
       "    </tr>\n",
       "    <tr>\n",
       "      <th>4</th>\n",
       "      <td>0</td>\n",
       "      <td>36.7</td>\n",
       "      <td>19.3</td>\n",
       "      <td>193.0</td>\n",
       "      <td>3450.0</td>\n",
       "      <td>1</td>\n",
       "      <td>False</td>\n",
       "      <td>False</td>\n",
       "      <td>True</td>\n",
       "    </tr>\n",
       "    <tr>\n",
       "      <th>5</th>\n",
       "      <td>0</td>\n",
       "      <td>39.3</td>\n",
       "      <td>20.6</td>\n",
       "      <td>190.0</td>\n",
       "      <td>3650.0</td>\n",
       "      <td>0</td>\n",
       "      <td>False</td>\n",
       "      <td>False</td>\n",
       "      <td>True</td>\n",
       "    </tr>\n",
       "  </tbody>\n",
       "</table>\n",
       "</div>"
      ],
      "text/plain": [
       "   species  bill_length_mm  bill_depth_mm  flipper_length_mm  body_mass_g  \\\n",
       "0        0            39.1           18.7              181.0       3750.0   \n",
       "1        0            39.5           17.4              186.0       3800.0   \n",
       "2        0            40.3           18.0              195.0       3250.0   \n",
       "4        0            36.7           19.3              193.0       3450.0   \n",
       "5        0            39.3           20.6              190.0       3650.0   \n",
       "\n",
       "   sex  island_Biscoe  island_Dream  island_Torgersen  \n",
       "0    0          False         False              True  \n",
       "1    1          False         False              True  \n",
       "2    1          False         False              True  \n",
       "4    1          False         False              True  \n",
       "5    0          False         False              True  "
      ]
     },
     "execution_count": 4,
     "metadata": {},
     "output_type": "execute_result"
    }
   ],
   "source": [
    "df = sns.load_dataset(\"penguins\")\n",
    "\n",
    "# Limpiamos un poco los datos\n",
    "df.dropna(inplace=True)\n",
    "cleanup_nums = {\"species\": {\"Adelie\": 0,\n",
    "                            \"Chinstrap\": 1,\n",
    "                            \"Gentoo\": 2},\n",
    "               \"sex\": {\"Male\": 0,\n",
    "                       \"Female\": 1}}\n",
    "df.replace(cleanup_nums, inplace=True)\n",
    "df = pd.get_dummies(df)\n",
    "\n",
    "df.head()"
   ]
  },
  {
   "cell_type": "code",
   "execution_count": 5,
   "metadata": {},
   "outputs": [
    {
     "name": "stdout",
     "output_type": "stream",
     "text": [
      "<class 'pandas.core.frame.DataFrame'>\n",
      "Index: 333 entries, 0 to 343\n",
      "Data columns (total 9 columns):\n",
      " #   Column             Non-Null Count  Dtype  \n",
      "---  ------             --------------  -----  \n",
      " 0   species            333 non-null    int64  \n",
      " 1   bill_length_mm     333 non-null    float64\n",
      " 2   bill_depth_mm      333 non-null    float64\n",
      " 3   flipper_length_mm  333 non-null    float64\n",
      " 4   body_mass_g        333 non-null    float64\n",
      " 5   sex                333 non-null    int64  \n",
      " 6   island_Biscoe      333 non-null    bool   \n",
      " 7   island_Dream       333 non-null    bool   \n",
      " 8   island_Torgersen   333 non-null    bool   \n",
      "dtypes: bool(3), float64(4), int64(2)\n",
      "memory usage: 19.2 KB\n"
     ]
    }
   ],
   "source": [
    "df.info()"
   ]
  },
  {
   "cell_type": "code",
   "execution_count": 6,
   "metadata": {},
   "outputs": [
    {
     "data": {
      "text/html": [
       "<div>\n",
       "<style scoped>\n",
       "    .dataframe tbody tr th:only-of-type {\n",
       "        vertical-align: middle;\n",
       "    }\n",
       "\n",
       "    .dataframe tbody tr th {\n",
       "        vertical-align: top;\n",
       "    }\n",
       "\n",
       "    .dataframe thead th {\n",
       "        text-align: right;\n",
       "    }\n",
       "</style>\n",
       "<table border=\"1\" class=\"dataframe\">\n",
       "  <thead>\n",
       "    <tr style=\"text-align: right;\">\n",
       "      <th></th>\n",
       "      <th>species</th>\n",
       "      <th>bill_length_mm</th>\n",
       "      <th>bill_depth_mm</th>\n",
       "      <th>flipper_length_mm</th>\n",
       "      <th>body_mass_g</th>\n",
       "      <th>sex</th>\n",
       "    </tr>\n",
       "  </thead>\n",
       "  <tbody>\n",
       "    <tr>\n",
       "      <th>count</th>\n",
       "      <td>333.000000</td>\n",
       "      <td>333.000000</td>\n",
       "      <td>333.000000</td>\n",
       "      <td>333.000000</td>\n",
       "      <td>333.000000</td>\n",
       "      <td>333.000000</td>\n",
       "    </tr>\n",
       "    <tr>\n",
       "      <th>mean</th>\n",
       "      <td>0.918919</td>\n",
       "      <td>43.992793</td>\n",
       "      <td>17.164865</td>\n",
       "      <td>200.966967</td>\n",
       "      <td>4207.057057</td>\n",
       "      <td>0.495495</td>\n",
       "    </tr>\n",
       "    <tr>\n",
       "      <th>std</th>\n",
       "      <td>0.889718</td>\n",
       "      <td>5.468668</td>\n",
       "      <td>1.969235</td>\n",
       "      <td>14.015765</td>\n",
       "      <td>805.215802</td>\n",
       "      <td>0.500732</td>\n",
       "    </tr>\n",
       "    <tr>\n",
       "      <th>min</th>\n",
       "      <td>0.000000</td>\n",
       "      <td>32.100000</td>\n",
       "      <td>13.100000</td>\n",
       "      <td>172.000000</td>\n",
       "      <td>2700.000000</td>\n",
       "      <td>0.000000</td>\n",
       "    </tr>\n",
       "    <tr>\n",
       "      <th>25%</th>\n",
       "      <td>0.000000</td>\n",
       "      <td>39.500000</td>\n",
       "      <td>15.600000</td>\n",
       "      <td>190.000000</td>\n",
       "      <td>3550.000000</td>\n",
       "      <td>0.000000</td>\n",
       "    </tr>\n",
       "    <tr>\n",
       "      <th>50%</th>\n",
       "      <td>1.000000</td>\n",
       "      <td>44.500000</td>\n",
       "      <td>17.300000</td>\n",
       "      <td>197.000000</td>\n",
       "      <td>4050.000000</td>\n",
       "      <td>0.000000</td>\n",
       "    </tr>\n",
       "    <tr>\n",
       "      <th>75%</th>\n",
       "      <td>2.000000</td>\n",
       "      <td>48.600000</td>\n",
       "      <td>18.700000</td>\n",
       "      <td>213.000000</td>\n",
       "      <td>4775.000000</td>\n",
       "      <td>1.000000</td>\n",
       "    </tr>\n",
       "    <tr>\n",
       "      <th>max</th>\n",
       "      <td>2.000000</td>\n",
       "      <td>59.600000</td>\n",
       "      <td>21.500000</td>\n",
       "      <td>231.000000</td>\n",
       "      <td>6300.000000</td>\n",
       "      <td>1.000000</td>\n",
       "    </tr>\n",
       "  </tbody>\n",
       "</table>\n",
       "</div>"
      ],
      "text/plain": [
       "          species  bill_length_mm  bill_depth_mm  flipper_length_mm  \\\n",
       "count  333.000000      333.000000     333.000000         333.000000   \n",
       "mean     0.918919       43.992793      17.164865         200.966967   \n",
       "std      0.889718        5.468668       1.969235          14.015765   \n",
       "min      0.000000       32.100000      13.100000         172.000000   \n",
       "25%      0.000000       39.500000      15.600000         190.000000   \n",
       "50%      1.000000       44.500000      17.300000         197.000000   \n",
       "75%      2.000000       48.600000      18.700000         213.000000   \n",
       "max      2.000000       59.600000      21.500000         231.000000   \n",
       "\n",
       "       body_mass_g         sex  \n",
       "count   333.000000  333.000000  \n",
       "mean   4207.057057    0.495495  \n",
       "std     805.215802    0.500732  \n",
       "min    2700.000000    0.000000  \n",
       "25%    3550.000000    0.000000  \n",
       "50%    4050.000000    0.000000  \n",
       "75%    4775.000000    1.000000  \n",
       "max    6300.000000    1.000000  "
      ]
     },
     "execution_count": 6,
     "metadata": {},
     "output_type": "execute_result"
    }
   ],
   "source": [
    "df.describe()"
   ]
  },
  {
   "cell_type": "markdown",
   "metadata": {},
   "source": []
  },
  {
   "cell_type": "markdown",
   "metadata": {},
   "source": [
    "Dividimos en train test"
   ]
  },
  {
   "cell_type": "code",
   "execution_count": 11,
   "metadata": {},
   "outputs": [
    {
     "name": "stdout",
     "output_type": "stream",
     "text": [
      "Collecting scikit-learn\n",
      "  Downloading scikit_learn-1.4.0-1-cp311-cp311-win_amd64.whl.metadata (11 kB)\n",
      "Requirement already satisfied: numpy<2.0,>=1.19.5 in c:\\users\\carra\\appdata\\local\\packages\\pythonsoftwarefoundation.python.3.11_qbz5n2kfra8p0\\localcache\\local-packages\\python311\\site-packages (from scikit-learn) (1.26.4)\n",
      "Collecting scipy>=1.6.0 (from scikit-learn)\n",
      "  Downloading scipy-1.12.0-cp311-cp311-win_amd64.whl.metadata (60 kB)\n",
      "     ---------------------------------------- 0.0/60.4 kB ? eta -:--:--\n",
      "     ---------------------------------------- 0.0/60.4 kB ? eta -:--:--\n",
      "     ------ --------------------------------- 10.2/60.4 kB ? eta -:--:--\n",
      "     ------------------- ------------------ 30.7/60.4 kB 325.1 kB/s eta 0:00:01\n",
      "     -------------------------------------- 60.4/60.4 kB 401.6 kB/s eta 0:00:00\n",
      "Collecting joblib>=1.2.0 (from scikit-learn)\n",
      "  Downloading joblib-1.3.2-py3-none-any.whl.metadata (5.4 kB)\n",
      "Collecting threadpoolctl>=2.0.0 (from scikit-learn)\n",
      "  Downloading threadpoolctl-3.3.0-py3-none-any.whl.metadata (13 kB)\n",
      "Downloading scikit_learn-1.4.0-1-cp311-cp311-win_amd64.whl (10.6 MB)\n",
      "   ---------------------------------------- 0.0/10.6 MB ? eta -:--:--\n",
      "   ---------------------------------------- 0.1/10.6 MB 5.5 MB/s eta 0:00:02\n",
      "   - -------------------------------------- 0.4/10.6 MB 3.7 MB/s eta 0:00:03\n",
      "   -- ------------------------------------- 0.6/10.6 MB 4.0 MB/s eta 0:00:03\n",
      "   --- ------------------------------------ 0.8/10.6 MB 4.9 MB/s eta 0:00:03\n",
      "   --- ------------------------------------ 1.1/10.6 MB 5.6 MB/s eta 0:00:02\n",
      "   ------ --------------------------------- 1.8/10.6 MB 6.8 MB/s eta 0:00:02\n",
      "   -------- ------------------------------- 2.2/10.6 MB 7.1 MB/s eta 0:00:02\n",
      "   --------- ------------------------------ 2.6/10.6 MB 7.3 MB/s eta 0:00:02\n",
      "   ----------- ---------------------------- 3.0/10.6 MB 7.5 MB/s eta 0:00:02\n",
      "   ------------- -------------------------- 3.5/10.6 MB 7.8 MB/s eta 0:00:01\n",
      "   --------------- ------------------------ 4.0/10.6 MB 8.1 MB/s eta 0:00:01\n",
      "   ----------------- ---------------------- 4.5/10.6 MB 8.3 MB/s eta 0:00:01\n",
      "   ------------------ --------------------- 5.0/10.6 MB 8.4 MB/s eta 0:00:01\n",
      "   -------------------- ------------------- 5.5/10.6 MB 8.4 MB/s eta 0:00:01\n",
      "   ---------------------- ----------------- 5.9/10.6 MB 8.4 MB/s eta 0:00:01\n",
      "   ------------------------ --------------- 6.4/10.6 MB 8.6 MB/s eta 0:00:01\n",
      "   ------------------------- -------------- 6.9/10.6 MB 8.8 MB/s eta 0:00:01\n",
      "   ---------------------------- ----------- 7.5/10.6 MB 9.0 MB/s eta 0:00:01\n",
      "   ----------------------------- ---------- 8.0/10.6 MB 8.9 MB/s eta 0:00:01\n",
      "   -------------------------------- ------- 8.5/10.6 MB 9.1 MB/s eta 0:00:01\n",
      "   --------------------------------- ------ 9.0/10.6 MB 9.1 MB/s eta 0:00:01\n",
      "   ----------------------------------- ---- 9.5/10.6 MB 9.2 MB/s eta 0:00:01\n",
      "   ------------------------------------ --- 9.8/10.6 MB 9.1 MB/s eta 0:00:01\n",
      "   -------------------------------------- - 10.2/10.6 MB 9.2 MB/s eta 0:00:01\n",
      "   ---------------------------------------  10.6/10.6 MB 9.8 MB/s eta 0:00:01\n",
      "   ---------------------------------------  10.6/10.6 MB 9.8 MB/s eta 0:00:01\n",
      "   ---------------------------------------- 10.6/10.6 MB 9.1 MB/s eta 0:00:00\n",
      "Downloading joblib-1.3.2-py3-none-any.whl (302 kB)\n",
      "   ---------------------------------------- 0.0/302.2 kB ? eta -:--:--\n",
      "   ---------------------------------------- 302.2/302.2 kB 9.4 MB/s eta 0:00:00\n",
      "Downloading scipy-1.12.0-cp311-cp311-win_amd64.whl (46.2 MB)\n",
      "   ---------------------------------------- 0.0/46.2 MB ? eta -:--:--\n",
      "   ---------------------------------------- 0.5/46.2 MB 10.5 MB/s eta 0:00:05\n",
      "    --------------------------------------- 0.9/46.2 MB 9.4 MB/s eta 0:00:05\n",
      "   - -------------------------------------- 1.3/46.2 MB 10.5 MB/s eta 0:00:05\n",
      "   - -------------------------------------- 1.9/46.2 MB 11.1 MB/s eta 0:00:04\n",
      "   -- ------------------------------------- 2.4/46.2 MB 11.0 MB/s eta 0:00:04\n",
      "   -- ------------------------------------- 2.9/46.2 MB 11.0 MB/s eta 0:00:04\n",
      "   -- ------------------------------------- 3.4/46.2 MB 11.0 MB/s eta 0:00:04\n",
      "   --- ------------------------------------ 3.8/46.2 MB 10.6 MB/s eta 0:00:04\n",
      "   --- ------------------------------------ 4.3/46.2 MB 10.5 MB/s eta 0:00:05\n",
      "   ---- ----------------------------------- 4.8/46.2 MB 10.5 MB/s eta 0:00:04\n",
      "   ---- ----------------------------------- 5.0/46.2 MB 10.0 MB/s eta 0:00:05\n",
      "   ---- ----------------------------------- 5.5/46.2 MB 10.1 MB/s eta 0:00:05\n",
      "   ----- ---------------------------------- 5.9/46.2 MB 9.9 MB/s eta 0:00:05\n",
      "   ----- ---------------------------------- 6.2/46.2 MB 9.8 MB/s eta 0:00:05\n",
      "   ----- ---------------------------------- 6.5/46.2 MB 9.6 MB/s eta 0:00:05\n",
      "   ----- ---------------------------------- 6.8/46.2 MB 9.3 MB/s eta 0:00:05\n",
      "   ------ --------------------------------- 7.2/46.2 MB 9.4 MB/s eta 0:00:05\n",
      "   ------ --------------------------------- 7.6/46.2 MB 9.1 MB/s eta 0:00:05\n",
      "   ------ --------------------------------- 8.0/46.2 MB 9.3 MB/s eta 0:00:05\n",
      "   ------- -------------------------------- 8.3/46.2 MB 9.0 MB/s eta 0:00:05\n",
      "   ------- -------------------------------- 8.7/46.2 MB 9.1 MB/s eta 0:00:05\n",
      "   ------- -------------------------------- 9.1/46.2 MB 9.1 MB/s eta 0:00:05\n",
      "   -------- ------------------------------- 9.6/46.2 MB 9.0 MB/s eta 0:00:05\n",
      "   -------- ------------------------------- 9.9/46.2 MB 8.9 MB/s eta 0:00:05\n",
      "   -------- ------------------------------- 10.3/46.2 MB 8.8 MB/s eta 0:00:05\n",
      "   --------- ------------------------------ 10.7/46.2 MB 8.8 MB/s eta 0:00:05\n",
      "   --------- ------------------------------ 11.2/46.2 MB 8.8 MB/s eta 0:00:04\n",
      "   ---------- ----------------------------- 11.6/46.2 MB 8.7 MB/s eta 0:00:04\n",
      "   ---------- ----------------------------- 12.0/46.2 MB 8.5 MB/s eta 0:00:05\n",
      "   ---------- ----------------------------- 12.5/46.2 MB 8.5 MB/s eta 0:00:04\n",
      "   ----------- ---------------------------- 13.0/46.2 MB 8.4 MB/s eta 0:00:04\n",
      "   ----------- ---------------------------- 13.4/46.2 MB 8.5 MB/s eta 0:00:04\n",
      "   ----------- ---------------------------- 13.7/46.2 MB 8.6 MB/s eta 0:00:04\n",
      "   ------------ --------------------------- 14.2/46.2 MB 8.4 MB/s eta 0:00:04\n",
      "   ------------ --------------------------- 14.5/46.2 MB 8.4 MB/s eta 0:00:04\n",
      "   ------------ --------------------------- 14.9/46.2 MB 8.4 MB/s eta 0:00:04\n",
      "   ------------- -------------------------- 15.4/46.2 MB 8.4 MB/s eta 0:00:04\n",
      "   ------------- -------------------------- 15.8/46.2 MB 8.5 MB/s eta 0:00:04\n",
      "   ------------- -------------------------- 15.9/46.2 MB 8.2 MB/s eta 0:00:04\n",
      "   -------------- ------------------------- 16.4/46.2 MB 8.3 MB/s eta 0:00:04\n",
      "   -------------- ------------------------- 16.7/46.2 MB 8.3 MB/s eta 0:00:04\n",
      "   -------------- ------------------------- 17.0/46.2 MB 8.4 MB/s eta 0:00:04\n",
      "   --------------- ------------------------ 17.4/46.2 MB 8.4 MB/s eta 0:00:04\n",
      "   --------------- ------------------------ 17.7/46.2 MB 8.4 MB/s eta 0:00:04\n",
      "   --------------- ------------------------ 18.0/46.2 MB 8.2 MB/s eta 0:00:04\n",
      "   --------------- ------------------------ 18.2/46.2 MB 8.1 MB/s eta 0:00:04\n",
      "   ---------------- ----------------------- 18.6/46.2 MB 8.2 MB/s eta 0:00:04\n",
      "   ---------------- ----------------------- 18.7/46.2 MB 8.0 MB/s eta 0:00:04\n",
      "   ---------------- ----------------------- 19.0/46.2 MB 7.9 MB/s eta 0:00:04\n",
      "   ---------------- ----------------------- 19.2/46.2 MB 7.8 MB/s eta 0:00:04\n",
      "   ---------------- ----------------------- 19.3/46.2 MB 7.6 MB/s eta 0:00:04\n",
      "   ---------------- ----------------------- 19.5/46.2 MB 7.5 MB/s eta 0:00:04\n",
      "   ----------------- ---------------------- 19.8/46.2 MB 7.4 MB/s eta 0:00:04\n",
      "   ----------------- ---------------------- 20.0/46.2 MB 7.4 MB/s eta 0:00:04\n",
      "   ----------------- ---------------------- 20.3/46.2 MB 7.2 MB/s eta 0:00:04\n",
      "   ----------------- ---------------------- 20.4/46.2 MB 7.1 MB/s eta 0:00:04\n",
      "   ----------------- ---------------------- 20.5/46.2 MB 7.0 MB/s eta 0:00:04\n",
      "   ----------------- ---------------------- 20.8/46.2 MB 6.7 MB/s eta 0:00:04\n",
      "   ------------------ --------------------- 21.0/46.2 MB 6.7 MB/s eta 0:00:04\n",
      "   ------------------ --------------------- 21.3/46.2 MB 6.5 MB/s eta 0:00:04\n",
      "   ------------------ --------------------- 21.5/46.2 MB 6.5 MB/s eta 0:00:04\n",
      "   ------------------ --------------------- 21.7/46.2 MB 6.4 MB/s eta 0:00:04\n",
      "   ------------------ --------------------- 21.8/46.2 MB 6.4 MB/s eta 0:00:04\n",
      "   ------------------- -------------------- 22.0/46.2 MB 6.3 MB/s eta 0:00:04\n",
      "   ------------------- -------------------- 22.3/46.2 MB 6.2 MB/s eta 0:00:04\n",
      "   ------------------- -------------------- 22.5/46.2 MB 6.0 MB/s eta 0:00:04\n",
      "   ------------------- -------------------- 22.6/46.2 MB 6.0 MB/s eta 0:00:04\n",
      "   ------------------- -------------------- 22.9/46.2 MB 6.0 MB/s eta 0:00:04\n",
      "   -------------------- ------------------- 23.2/46.2 MB 5.9 MB/s eta 0:00:04\n",
      "   -------------------- ------------------- 23.5/46.2 MB 5.8 MB/s eta 0:00:04\n",
      "   -------------------- ------------------- 23.8/46.2 MB 5.8 MB/s eta 0:00:04\n",
      "   -------------------- ------------------- 24.0/46.2 MB 5.8 MB/s eta 0:00:04\n",
      "   --------------------- ------------------ 24.4/46.2 MB 5.7 MB/s eta 0:00:04\n",
      "   --------------------- ------------------ 24.6/46.2 MB 5.6 MB/s eta 0:00:04\n",
      "   --------------------- ------------------ 24.9/46.2 MB 5.6 MB/s eta 0:00:04\n",
      "   --------------------- ------------------ 25.3/46.2 MB 5.5 MB/s eta 0:00:04\n",
      "   ---------------------- ----------------- 25.7/46.2 MB 5.4 MB/s eta 0:00:04\n",
      "   ---------------------- ----------------- 26.0/46.2 MB 5.3 MB/s eta 0:00:04\n",
      "   ---------------------- ----------------- 26.3/46.2 MB 5.4 MB/s eta 0:00:04\n",
      "   ----------------------- ---------------- 26.6/46.2 MB 5.3 MB/s eta 0:00:04\n",
      "   ----------------------- ---------------- 26.8/46.2 MB 5.3 MB/s eta 0:00:04\n",
      "   ----------------------- ---------------- 27.1/46.2 MB 5.2 MB/s eta 0:00:04\n",
      "   ----------------------- ---------------- 27.4/46.2 MB 5.2 MB/s eta 0:00:04\n",
      "   ------------------------ --------------- 27.7/46.2 MB 5.2 MB/s eta 0:00:04\n",
      "   ------------------------ --------------- 28.1/46.2 MB 5.2 MB/s eta 0:00:04\n",
      "   ------------------------ --------------- 28.4/46.2 MB 5.2 MB/s eta 0:00:04\n",
      "   ------------------------ --------------- 28.7/46.2 MB 5.3 MB/s eta 0:00:04\n",
      "   ------------------------- -------------- 29.0/46.2 MB 5.3 MB/s eta 0:00:04\n",
      "   ------------------------- -------------- 29.3/46.2 MB 5.4 MB/s eta 0:00:04\n",
      "   ------------------------- -------------- 29.6/46.2 MB 5.5 MB/s eta 0:00:04\n",
      "   ------------------------- -------------- 29.9/46.2 MB 5.4 MB/s eta 0:00:04\n",
      "   -------------------------- ------------- 30.2/46.2 MB 5.5 MB/s eta 0:00:03\n",
      "   -------------------------- ------------- 30.5/46.2 MB 5.5 MB/s eta 0:00:03\n",
      "   -------------------------- ------------- 30.9/46.2 MB 5.8 MB/s eta 0:00:03\n",
      "   --------------------------- ------------ 31.3/46.2 MB 5.9 MB/s eta 0:00:03\n",
      "   --------------------------- ------------ 31.6/46.2 MB 6.0 MB/s eta 0:00:03\n",
      "   --------------------------- ------------ 31.9/46.2 MB 6.1 MB/s eta 0:00:03\n",
      "   --------------------------- ------------ 32.2/46.2 MB 6.2 MB/s eta 0:00:03\n",
      "   ---------------------------- ----------- 32.6/46.2 MB 6.3 MB/s eta 0:00:03\n",
      "   ---------------------------- ----------- 32.9/46.2 MB 6.4 MB/s eta 0:00:03\n",
      "   ---------------------------- ----------- 33.2/46.2 MB 6.4 MB/s eta 0:00:03\n",
      "   ----------------------------- ---------- 33.6/46.2 MB 6.5 MB/s eta 0:00:02\n",
      "   ----------------------------- ---------- 34.0/46.2 MB 6.5 MB/s eta 0:00:02\n",
      "   ----------------------------- ---------- 34.4/46.2 MB 6.6 MB/s eta 0:00:02\n",
      "   ------------------------------ --------- 34.8/46.2 MB 6.8 MB/s eta 0:00:02\n",
      "   ------------------------------ --------- 35.2/46.2 MB 6.9 MB/s eta 0:00:02\n",
      "   ------------------------------ --------- 35.6/46.2 MB 7.0 MB/s eta 0:00:02\n",
      "   ------------------------------- -------- 36.0/46.2 MB 7.1 MB/s eta 0:00:02\n",
      "   ------------------------------- -------- 36.4/46.2 MB 7.2 MB/s eta 0:00:02\n",
      "   ------------------------------- -------- 36.8/46.2 MB 7.3 MB/s eta 0:00:02\n",
      "   -------------------------------- ------- 37.3/46.2 MB 7.4 MB/s eta 0:00:02\n",
      "   -------------------------------- ------- 37.5/46.2 MB 7.4 MB/s eta 0:00:02\n",
      "   -------------------------------- ------- 37.9/46.2 MB 7.5 MB/s eta 0:00:02\n",
      "   --------------------------------- ------ 38.3/46.2 MB 7.6 MB/s eta 0:00:02\n",
      "   --------------------------------- ------ 38.9/46.2 MB 7.7 MB/s eta 0:00:01\n",
      "   ---------------------------------- ----- 39.3/46.2 MB 7.8 MB/s eta 0:00:01\n",
      "   ---------------------------------- ----- 39.3/46.2 MB 7.6 MB/s eta 0:00:01\n",
      "   ---------------------------------- ----- 39.5/46.2 MB 7.5 MB/s eta 0:00:01\n",
      "   ---------------------------------- ----- 39.7/46.2 MB 7.4 MB/s eta 0:00:01\n",
      "   ---------------------------------- ----- 39.7/46.2 MB 7.4 MB/s eta 0:00:01\n",
      "   ---------------------------------- ----- 40.1/46.2 MB 7.1 MB/s eta 0:00:01\n",
      "   ---------------------------------- ----- 40.1/46.2 MB 7.1 MB/s eta 0:00:01\n",
      "   ---------------------------------- ----- 40.3/46.2 MB 7.0 MB/s eta 0:00:01\n",
      "   ----------------------------------- ---- 40.6/46.2 MB 6.9 MB/s eta 0:00:01\n",
      "   ----------------------------------- ---- 40.8/46.2 MB 6.8 MB/s eta 0:00:01\n",
      "   ----------------------------------- ---- 41.0/46.2 MB 6.7 MB/s eta 0:00:01\n",
      "   ----------------------------------- ---- 41.2/46.2 MB 6.5 MB/s eta 0:00:01\n",
      "   ----------------------------------- ---- 41.4/46.2 MB 6.5 MB/s eta 0:00:01\n",
      "   ------------------------------------ --- 41.7/46.2 MB 6.4 MB/s eta 0:00:01\n",
      "   ------------------------------------ --- 41.9/46.2 MB 6.4 MB/s eta 0:00:01\n",
      "   ------------------------------------ --- 42.1/46.2 MB 6.3 MB/s eta 0:00:01\n",
      "   ------------------------------------ --- 42.1/46.2 MB 6.2 MB/s eta 0:00:01\n",
      "   ------------------------------------ --- 42.4/46.2 MB 6.2 MB/s eta 0:00:01\n",
      "   ------------------------------------ --- 42.5/46.2 MB 6.0 MB/s eta 0:00:01\n",
      "   ------------------------------------ --- 42.6/46.2 MB 6.0 MB/s eta 0:00:01\n",
      "   ------------------------------------- -- 42.8/46.2 MB 5.8 MB/s eta 0:00:01\n",
      "   ------------------------------------- -- 42.8/46.2 MB 5.8 MB/s eta 0:00:01\n",
      "   ------------------------------------- -- 43.0/46.2 MB 5.7 MB/s eta 0:00:01\n",
      "   ------------------------------------- -- 43.3/46.2 MB 5.6 MB/s eta 0:00:01\n",
      "   ------------------------------------- -- 43.4/46.2 MB 5.5 MB/s eta 0:00:01\n",
      "   ------------------------------------- -- 43.5/46.2 MB 5.6 MB/s eta 0:00:01\n",
      "   ------------------------------------- -- 43.7/46.2 MB 5.4 MB/s eta 0:00:01\n",
      "   ------------------------------------- -- 43.8/46.2 MB 5.3 MB/s eta 0:00:01\n",
      "   -------------------------------------- - 43.9/46.2 MB 5.3 MB/s eta 0:00:01\n",
      "   -------------------------------------- - 44.1/46.2 MB 5.2 MB/s eta 0:00:01\n",
      "   -------------------------------------- - 44.1/46.2 MB 5.2 MB/s eta 0:00:01\n",
      "   -------------------------------------- - 44.4/46.2 MB 5.0 MB/s eta 0:00:01\n",
      "   -------------------------------------- - 44.4/46.2 MB 4.9 MB/s eta 0:00:01\n",
      "   -------------------------------------- - 44.6/46.2 MB 5.0 MB/s eta 0:00:01\n",
      "   -------------------------------------- - 44.9/46.2 MB 4.9 MB/s eta 0:00:01\n",
      "   -------------------------------------- - 44.9/46.2 MB 4.9 MB/s eta 0:00:01\n",
      "   ---------------------------------------  45.1/46.2 MB 4.7 MB/s eta 0:00:01\n",
      "   ---------------------------------------  45.3/46.2 MB 4.7 MB/s eta 0:00:01\n",
      "   ---------------------------------------  45.4/46.2 MB 4.6 MB/s eta 0:00:01\n",
      "   ---------------------------------------  45.5/46.2 MB 4.6 MB/s eta 0:00:01\n",
      "   ---------------------------------------  45.8/46.2 MB 4.5 MB/s eta 0:00:01\n",
      "   ---------------------------------------  46.0/46.2 MB 4.5 MB/s eta 0:00:01\n",
      "   ---------------------------------------  46.2/46.2 MB 4.5 MB/s eta 0:00:01\n",
      "   ---------------------------------------  46.2/46.2 MB 4.5 MB/s eta 0:00:01\n",
      "   ---------------------------------------  46.2/46.2 MB 4.5 MB/s eta 0:00:01\n",
      "   ---------------------------------------- 46.2/46.2 MB 4.2 MB/s eta 0:00:00\n",
      "Downloading threadpoolctl-3.3.0-py3-none-any.whl (17 kB)\n",
      "Installing collected packages: threadpoolctl, scipy, joblib, scikit-learn\n",
      "Successfully installed joblib-1.3.2 scikit-learn-1.4.0 scipy-1.12.0 threadpoolctl-3.3.0\n"
     ]
    }
   ],
   "source": [
    "!pip install scikit-learn"
   ]
  },
  {
   "cell_type": "code",
   "execution_count": 12,
   "metadata": {},
   "outputs": [],
   "source": [
    "import sklearn"
   ]
  },
  {
   "cell_type": "code",
   "execution_count": 13,
   "metadata": {},
   "outputs": [],
   "source": [
    "from sklearn.model_selection import train_test_split\n",
    "\n",
    "X = df.iloc[:, 1:]\n",
    "y = df.iloc[:, 0]\n",
    "\n",
    "X_train, X_test, y_train, y_test = train_test_split(X,\n",
    "                                                    y,\n",
    "                                                    test_size=0.2,\n",
    "                                                    random_state=42)"
   ]
  },
  {
   "cell_type": "code",
   "execution_count": 14,
   "metadata": {},
   "outputs": [
    {
     "data": {
      "text/plain": [
       "species\n",
       "0    146\n",
       "2    119\n",
       "1     68\n",
       "Name: count, dtype: int64"
      ]
     },
     "execution_count": 14,
     "metadata": {},
     "output_type": "execute_result"
    }
   ],
   "source": [
    "y.value_counts()"
   ]
  },
  {
   "cell_type": "code",
   "execution_count": 15,
   "metadata": {},
   "outputs": [
    {
     "name": "stdout",
     "output_type": "stream",
     "text": [
      "(266, 8)\n",
      "(67, 8)\n",
      "(266,)\n",
      "(67,)\n"
     ]
    }
   ],
   "source": [
    "print(X_train.shape)\n",
    "print(X_test.shape)\n",
    "print(y_train.shape)\n",
    "print(y_test.shape)"
   ]
  },
  {
   "cell_type": "markdown",
   "metadata": {},
   "source": [
    "Vamos a probar un Perceptrón"
   ]
  },
  {
   "cell_type": "code",
   "execution_count": 16,
   "metadata": {},
   "outputs": [
    {
     "data": {
      "text/plain": [
       "0.19402985074626866"
      ]
     },
     "execution_count": 16,
     "metadata": {},
     "output_type": "execute_result"
    }
   ],
   "source": [
    "from sklearn.linear_model import Perceptron\n",
    "\n",
    "per_clf = Perceptron(random_state=1)\n",
    "per_clf.fit(X_train, y_train)\n",
    "per_clf.score(X_test, y_test)"
   ]
  },
  {
   "cell_type": "code",
   "execution_count": 17,
   "metadata": {},
   "outputs": [
    {
     "data": {
      "text/plain": [
       "1.0"
      ]
     },
     "execution_count": 17,
     "metadata": {},
     "output_type": "execute_result"
    }
   ],
   "source": [
    "from sklearn.linear_model import LogisticRegression\n",
    "\n",
    "log_reg = LogisticRegression(max_iter=10000)\n",
    "log_reg.fit(X_train, y_train)\n",
    "\n",
    "log_reg.score(X_test, y_test)"
   ]
  },
  {
   "cell_type": "markdown",
   "metadata": {},
   "source": [
    "Probemos a estandarizar"
   ]
  },
  {
   "cell_type": "markdown",
   "metadata": {},
   "source": [
    "Parece que el perceptrón por si solo es bastante inútil, habrá que probar configuraciones más complejas."
   ]
  },
  {
   "cell_type": "markdown",
   "metadata": {},
   "source": [
    "## 2. Multi Layer Perceptron"
   ]
  },
  {
   "cell_type": "code",
   "execution_count": 18,
   "metadata": {},
   "outputs": [
    {
     "data": {
      "text/plain": [
       "0.43283582089552236"
      ]
     },
     "execution_count": 18,
     "metadata": {},
     "output_type": "execute_result"
    }
   ],
   "source": [
    "from sklearn.neural_network import MLPClassifier\n",
    "#from sklearn.neural_network import MLPRegressor\n",
    "\n",
    "mlp = MLPClassifier(random_state=42)\n",
    "mlp.fit(X_train, y_train)\n",
    "\n",
    "mlp.score(X_test, y_test)"
   ]
  },
  {
   "cell_type": "markdown",
   "metadata": {},
   "source": [
    "Probemos otra configuración. Es posible crear una red neuronal desde la propia función de MLPClassifier()"
   ]
  },
  {
   "cell_type": "code",
   "execution_count": 19,
   "metadata": {},
   "outputs": [
    {
     "data": {
      "text/plain": [
       "0.34328358208955223"
      ]
     },
     "execution_count": 19,
     "metadata": {},
     "output_type": "execute_result"
    }
   ],
   "source": [
    "mlp = MLPClassifier(max_iter=500,\n",
    "                   activation='tanh',\n",
    "                   hidden_layer_sizes = (150, 150, 150),\n",
    "                   random_state=42)\n",
    "\n",
    "mlp.fit(X_train, y_train)\n",
    "\n",
    "mlp.score(X_test, y_test)"
   ]
  },
  {
   "cell_type": "markdown",
   "metadata": {},
   "source": [
    "Utilizan descenso del gradiente, y por tanto son muy sensibles al escalado. Estandarizamos para el siguiente ejemplo"
   ]
  },
  {
   "cell_type": "code",
   "execution_count": 21,
   "metadata": {},
   "outputs": [
    {
     "name": "stdout",
     "output_type": "stream",
     "text": [
      "1.0\n",
      "1.0\n"
     ]
    }
   ],
   "source": [
    "from sklearn.preprocessing import StandardScaler\n",
    "\n",
    "sc = StandardScaler()\n",
    "sc.fit(X_train)\n",
    "X_train_s = sc.transform(X_train)\n",
    "X_test_s = sc.transform(X_test)\n",
    "\n",
    "per_clf = Perceptron()\n",
    "per_clf.fit(X_train_s, y_train)\n",
    "print(per_clf.score(X_train_s, y_train))\n",
    "print(per_clf.score(X_test_s, y_test))"
   ]
  },
  {
   "cell_type": "code",
   "execution_count": 22,
   "metadata": {},
   "outputs": [
    {
     "name": "stdout",
     "output_type": "stream",
     "text": [
      "1.0\n",
      "1.0\n"
     ]
    }
   ],
   "source": [
    "log_reg = LogisticRegression(max_iter=500)\n",
    "log_reg.fit(X_train_s, y_train)\n",
    "print(log_reg.score(X_train_s, y_train))\n",
    "print(log_reg.score(X_test_s, y_test))"
   ]
  },
  {
   "cell_type": "code",
   "execution_count": 23,
   "metadata": {},
   "outputs": [
    {
     "name": "stdout",
     "output_type": "stream",
     "text": [
      "1.0\n",
      "1.0\n"
     ]
    }
   ],
   "source": [
    "from sklearn.neural_network import MLPClassifier\n",
    "from sklearn.preprocessing import StandardScaler\n",
    "\n",
    "scaler = StandardScaler()\n",
    "scaler.fit(X_train)\n",
    "X_train_scal =scaler.transform(X_train)\n",
    "X_test_scal =scaler.transform(X_test)\n",
    "\n",
    "mlp = MLPClassifier(max_iter=500)\n",
    "mlp.fit(X_train_scal, y_train)\n",
    "print(mlp.score(X_train_scal, y_train))\n",
    "print(mlp.score(X_test_scal, y_test))"
   ]
  },
  {
   "cell_type": "code",
   "execution_count": 24,
   "metadata": {},
   "outputs": [
    {
     "data": {
      "text/plain": [
       "array([[31,  0,  0],\n",
       "       [ 0, 13,  0],\n",
       "       [ 0,  0, 23]], dtype=int64)"
      ]
     },
     "execution_count": 24,
     "metadata": {},
     "output_type": "execute_result"
    }
   ],
   "source": [
    "from sklearn.metrics import confusion_matrix\n",
    "\n",
    "confusion_matrix(y_test, mlp.predict(X_test_scal))"
   ]
  }
 ],
 "metadata": {
  "kernelspec": {
   "display_name": "Python 3",
   "language": "python",
   "name": "python3"
  },
  "language_info": {
   "codemirror_mode": {
    "name": "ipython",
    "version": 3
   },
   "file_extension": ".py",
   "mimetype": "text/x-python",
   "name": "python",
   "nbconvert_exporter": "python",
   "pygments_lexer": "ipython3",
   "version": "3.11.8"
  },
  "vscode": {
   "interpreter": {
    "hash": "31f2aee4e71d21fbe5cf8b01ff0e069b9275f58929596ceb00d14d90e3e16cd6"
   }
  }
 },
 "nbformat": 4,
 "nbformat_minor": 4
}
