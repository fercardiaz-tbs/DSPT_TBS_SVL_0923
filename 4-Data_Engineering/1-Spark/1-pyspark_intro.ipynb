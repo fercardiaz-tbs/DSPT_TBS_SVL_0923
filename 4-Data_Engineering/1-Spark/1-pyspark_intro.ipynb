{
 "cells": [
  {
   "cell_type": "markdown",
   "id": "8ff41f5d",
   "metadata": {},
   "source": [
    "# Pyspark Basic Introduction"
   ]
  },
  {
   "cell_type": "markdown",
   "id": "c4a9a9bf",
   "metadata": {},
   "source": [
    "## Instalamos pyspark"
   ]
  },
  {
   "cell_type": "code",
   "execution_count": null,
   "id": "989dd9b9",
   "metadata": {},
   "outputs": [],
   "source": [
    "#!pip install pyspark"
   ]
  },
  {
   "cell_type": "markdown",
   "id": "d9903ca9",
   "metadata": {},
   "source": [
    "## Importamos pyspark"
   ]
  },
  {
   "cell_type": "code",
   "execution_count": 1,
   "id": "95d727fd",
   "metadata": {},
   "outputs": [],
   "source": [
    "import pyspark"
   ]
  },
  {
   "cell_type": "code",
   "execution_count": 2,
   "id": "45955ba3",
   "metadata": {},
   "outputs": [],
   "source": [
    "from pyspark.sql import SparkSession"
   ]
  },
  {
   "cell_type": "markdown",
   "id": "cbaf3fa0",
   "metadata": {},
   "source": [
    "Leemos el archivo `test.csv`"
   ]
  },
  {
   "cell_type": "code",
   "execution_count": 3,
   "id": "dbe9f2ba",
   "metadata": {},
   "outputs": [
    {
     "data": {
      "text/plain": [
       "pandas.core.frame.DataFrame"
      ]
     },
     "execution_count": 3,
     "metadata": {},
     "output_type": "execute_result"
    }
   ],
   "source": [
    "import pandas as pd\n",
    "type(pd.read_csv('./data/test1.csv'))"
   ]
  },
  {
   "cell_type": "markdown",
   "id": "a6da4aa0",
   "metadata": {},
   "source": [
    "### Vamos a crear una sesión.\n",
    "Esto nos da acceso a la API de DataFrame y Dataset, que básicamente nos sirve para ejecutar las distintas acciones y transformaciones sobre nuestros datos."
   ]
  },
  {
   "cell_type": "code",
   "execution_count": 4,
   "id": "56a80627",
   "metadata": {},
   "outputs": [
    {
     "name": "stderr",
     "output_type": "stream",
     "text": [
      "your 131072x1 screen size is bogus. expect trouble\n",
      "24/03/06 19:13:54 WARN Utils: Your hostname, DESKTOP-8EEJDSD resolves to a loopback address: 127.0.1.1; using 172.28.93.32 instead (on interface eth0)\n",
      "24/03/06 19:13:54 WARN Utils: Set SPARK_LOCAL_IP if you need to bind to another address\n",
      "Setting default log level to \"WARN\".\n",
      "To adjust logging level use sc.setLogLevel(newLevel). For SparkR, use setLogLevel(newLevel).\n",
      "24/03/06 19:13:58 WARN NativeCodeLoader: Unable to load native-hadoop library for your platform... using builtin-java classes where applicable\n"
     ]
    }
   ],
   "source": [
    "spark = SparkSession.builder.appName('Practise').getOrCreate() # Inicia sesión para poder utilizar los comandos de spark"
   ]
  },
  {
   "cell_type": "markdown",
   "id": "92e05abf",
   "metadata": {},
   "source": [
    "Visualizamos la sesión"
   ]
  },
  {
   "cell_type": "code",
   "execution_count": 5,
   "id": "bce637f6",
   "metadata": {},
   "outputs": [
    {
     "data": {
      "text/html": [
       "\n",
       "            <div>\n",
       "                <p><b>SparkSession - in-memory</b></p>\n",
       "                \n",
       "        <div>\n",
       "            <p><b>SparkContext</b></p>\n",
       "\n",
       "            <p><a href=\"http://172.28.93.32:4040\">Spark UI</a></p>\n",
       "\n",
       "            <dl>\n",
       "              <dt>Version</dt>\n",
       "                <dd><code>v3.5.1</code></dd>\n",
       "              <dt>Master</dt>\n",
       "                <dd><code>local[*]</code></dd>\n",
       "              <dt>AppName</dt>\n",
       "                <dd><code>Practise</code></dd>\n",
       "            </dl>\n",
       "        </div>\n",
       "        \n",
       "            </div>\n",
       "        "
      ],
      "text/plain": [
       "<pyspark.sql.session.SparkSession at 0x7f427df6a760>"
      ]
     },
     "execution_count": 5,
     "metadata": {},
     "output_type": "execute_result"
    }
   ],
   "source": [
    "spark"
   ]
  },
  {
   "cell_type": "markdown",
   "id": "58bedc92",
   "metadata": {},
   "source": [
    "Ahora vamos a leer `test.csv` a través de Spark"
   ]
  },
  {
   "cell_type": "code",
   "execution_count": 6,
   "id": "7fe8afb1",
   "metadata": {},
   "outputs": [
    {
     "name": "stderr",
     "output_type": "stream",
     "text": [
      "                                                                                \r"
     ]
    }
   ],
   "source": [
    "df_pyspark = spark.read.csv('data/test1.csv')"
   ]
  },
  {
   "cell_type": "markdown",
   "id": "c9dec877",
   "metadata": {},
   "source": [
    "Ahora vamos a leer `test.csv` a través de Spark"
   ]
  },
  {
   "cell_type": "code",
   "execution_count": null,
   "id": "612b9eea",
   "metadata": {},
   "outputs": [],
   "source": [
    "df_pyspark.show()"
   ]
  },
  {
   "cell_type": "markdown",
   "id": "0d493e63",
   "metadata": {},
   "source": [
    "Si nos fijamos, nos está mostrando nombres raros en las columnas y además la primera fila la componen los nombres de las columnas.\n",
    "\n",
    "Para evitar eso, necesitamos poner unos argumentos para evitarlo"
   ]
  },
  {
   "cell_type": "code",
   "execution_count": null,
   "id": "72486c71",
   "metadata": {},
   "outputs": [],
   "source": [
    "df_pyspark = spark.read.option('header', 'true').csv('data/test1.csv')"
   ]
  },
  {
   "cell_type": "code",
   "execution_count": null,
   "id": "7cfe21cc",
   "metadata": {},
   "outputs": [],
   "source": [
    "df_pyspark = spark.read.csv('data/test1.csv', header=True)"
   ]
  },
  {
   "cell_type": "markdown",
   "id": "4565a537",
   "metadata": {},
   "source": [
    "Vemos el tipo de objeto que es"
   ]
  },
  {
   "cell_type": "code",
   "execution_count": null,
   "id": "6cd59ef9",
   "metadata": {},
   "outputs": [],
   "source": [
    "type(df_pyspark)"
   ]
  },
  {
   "cell_type": "markdown",
   "id": "5daad314",
   "metadata": {},
   "source": [
    "Vemos la información de las columnas"
   ]
  },
  {
   "cell_type": "code",
   "execution_count": null,
   "id": "1e8290ff",
   "metadata": {},
   "outputs": [],
   "source": [
    "df_pyspark.printSchema()"
   ]
  }
 ],
 "metadata": {
  "interpreter": {
   "hash": "90139cb9a825bf3d63f6f6704e828dbd1ff7edbd4d0c6e906a71235d6efc74af"
  },
  "kernelspec": {
   "display_name": "Python 3.7.4 64-bit",
   "language": "python",
   "name": "python3"
  },
  "language_info": {
   "codemirror_mode": {
    "name": "ipython",
    "version": 3
   },
   "file_extension": ".py",
   "mimetype": "text/x-python",
   "name": "python",
   "nbconvert_exporter": "python",
   "pygments_lexer": "ipython3",
   "version": "3.8.10"
  }
 },
 "nbformat": 4,
 "nbformat_minor": 5
}
