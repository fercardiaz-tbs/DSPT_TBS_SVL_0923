{
 "cells": [
  {
   "cell_type": "markdown",
   "id": "5d6364f6",
   "metadata": {},
   "source": [
    "### Pyspark Dataframes\n",
    "- Filter Operation\n",
    "- &,|,==\n",
    "- ~"
   ]
  },
  {
   "cell_type": "markdown",
   "id": "af2e76a0",
   "metadata": {},
   "source": [
    "#### INICIAMOS LA SESIÓN"
   ]
  },
  {
   "cell_type": "code",
   "execution_count": null,
   "id": "6307dd80",
   "metadata": {},
   "outputs": [],
   "source": [
    "from pyspark.sql import SparkSession\n",
    "spark = SparkSession.builder.appName('dataframe').getOrCreate()"
   ]
  },
  {
   "cell_type": "code",
   "execution_count": null,
   "id": "9c9bc249",
   "metadata": {},
   "outputs": [],
   "source": [
    "spark"
   ]
  },
  {
   "cell_type": "markdown",
   "id": "3126f1dd",
   "metadata": {},
   "source": [
    "#### CARGAMOS EL CSV"
   ]
  },
  {
   "cell_type": "code",
   "execution_count": null,
   "id": "636f21ea",
   "metadata": {},
   "outputs": [],
   "source": [
    "df_pyspark = spark.read.csv('data/test1.csv', header=True, inferSchema=True)\n",
    "df_pyspark.show()"
   ]
  },
  {
   "cell_type": "markdown",
   "id": "d67b3520",
   "metadata": {},
   "source": [
    "#### FILTROS"
   ]
  },
  {
   "cell_type": "code",
   "execution_count": null,
   "id": "b34ac53a",
   "metadata": {},
   "outputs": [],
   "source": [
    "df_pyspark.filter('Salary<=20000').show()"
   ]
  },
  {
   "cell_type": "markdown",
   "id": "5db7b018",
   "metadata": {},
   "source": [
    "Otro modo que nos permitirá poner varias condiciones:"
   ]
  },
  {
   "cell_type": "code",
   "execution_count": null,
   "id": "77fa95f9",
   "metadata": {},
   "outputs": [],
   "source": [
    "df_pyspark.filter(df_pyspark['Salary']<=20000).show()"
   ]
  },
  {
   "cell_type": "markdown",
   "id": "afab57e6",
   "metadata": {},
   "source": [
    "AND"
   ]
  },
  {
   "cell_type": "code",
   "execution_count": null,
   "id": "2768e879",
   "metadata": {},
   "outputs": [],
   "source": [
    "df_pyspark.filter((df_pyspark['Salary']<=20000) & (df_pyspark['Salary']>15000)).show()"
   ]
  },
  {
   "cell_type": "markdown",
   "id": "2d399cda",
   "metadata": {},
   "source": [
    "OR"
   ]
  },
  {
   "cell_type": "code",
   "execution_count": null,
   "id": "655ac72a",
   "metadata": {},
   "outputs": [],
   "source": [
    "df_pyspark.filter((df_pyspark['Salary']<=20000) | (df_pyspark['Salary']>15000)).show()"
   ]
  },
  {
   "cell_type": "markdown",
   "id": "b48f91fc",
   "metadata": {},
   "source": [
    "NOT"
   ]
  },
  {
   "cell_type": "code",
   "execution_count": null,
   "id": "1913852c",
   "metadata": {},
   "outputs": [],
   "source": [
    "df_pyspark.filter(~(df_pyspark['Salary']<=20000)).show()"
   ]
  },
  {
   "cell_type": "code",
   "execution_count": null,
   "id": "68bdf24c",
   "metadata": {},
   "outputs": [],
   "source": []
  }
 ],
 "metadata": {
  "kernelspec": {
   "display_name": "Python 3.7.4 64-bit",
   "language": "python",
   "name": "python3"
  },
  "language_info": {
   "codemirror_mode": {
    "name": "ipython",
    "version": 3
   },
   "file_extension": ".py",
   "mimetype": "text/x-python",
   "name": "python",
   "nbconvert_exporter": "python",
   "pygments_lexer": "ipython3",
   "version": "3.7.9"
  },
  "vscode": {
   "interpreter": {
    "hash": "90139cb9a825bf3d63f6f6704e828dbd1ff7edbd4d0c6e906a71235d6efc74af"
   }
  }
 },
 "nbformat": 4,
 "nbformat_minor": 5
}
