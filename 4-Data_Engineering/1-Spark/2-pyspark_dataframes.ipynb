{
 "cells": [
  {
   "cell_type": "markdown",
   "id": "a4e3626d",
   "metadata": {},
   "source": [
    "# Pyspark Dataframes\n",
    "### Qué vamos a ver\n",
    "- PySpark Dataframe \n",
    "- Leer un dataset\n",
    "- Comprobar los Datatypes de las columnas (Schema)\n",
    "- Seleccionar columnas e indexarlas\n",
    "- Check Describe option similar to Pandas\n",
    "- Añadir columnas\n",
    "- Eliminar columnas\n",
    "- Renombrar Columnas"
   ]
  },
  {
   "cell_type": "code",
   "execution_count": null,
   "id": "beb48484",
   "metadata": {},
   "outputs": [],
   "source": [
    "import pyspark\n",
    "from pyspark.sql import SparkSession"
   ]
  },
  {
   "cell_type": "code",
   "execution_count": null,
   "id": "74bf850d",
   "metadata": {},
   "outputs": [],
   "source": [
    "spark = SparkSession.builder.appName('Practise').getOrCreate()"
   ]
  },
  {
   "cell_type": "code",
   "execution_count": null,
   "id": "c8ec9421",
   "metadata": {},
   "outputs": [],
   "source": [
    "spark"
   ]
  },
  {
   "cell_type": "markdown",
   "id": "d6a0eede",
   "metadata": {},
   "source": [
    "LEEMOS EL DATASET"
   ]
  },
  {
   "cell_type": "code",
   "execution_count": null,
   "id": "bad76311",
   "metadata": {},
   "outputs": [],
   "source": [
    "df_pyspark = spark.read.option('header', 'true').csv('data/test1.csv')\n",
    "df_pyspark.show()"
   ]
  },
  {
   "cell_type": "markdown",
   "id": "bc4c194c",
   "metadata": {},
   "source": [
    "COMPROBAMOS EL TIPO DE DATOS QUE TENEMOS"
   ]
  },
  {
   "cell_type": "code",
   "execution_count": null,
   "id": "85a9ce1f",
   "metadata": {},
   "outputs": [],
   "source": [
    "df_pyspark.printSchema()"
   ]
  },
  {
   "cell_type": "code",
   "execution_count": null,
   "id": "1f62ab79",
   "metadata": {},
   "outputs": [],
   "source": [
    "df_pyspark = spark.read.csv('data/test1.csv', header=True, inferSchema=True) # equivalente a spark.read.option('header', 'true').option('inferSchema', 'true').csv('data/test1.csv')\n",
    "df_pyspark.show()"
   ]
  },
  {
   "cell_type": "code",
   "execution_count": null,
   "id": "0d6daa12",
   "metadata": {},
   "outputs": [],
   "source": [
    "# también podríamos pasarle el esquema manualmente, muy útil para formatos timestamps por ejemplo\n",
    "\n",
    "# Ejemplo:\n",
    "# data_schema = [StructField(\"time\", TimestampType(), True),\n",
    "#                StructField(\"action\", StringType(), True)]\n",
    "\n",
    "# df_pyspark = spark.read.format(\"csv\").option(\"header\", True).schema(data_schema).load(\"file.csv\")"
   ]
  },
  {
   "cell_type": "markdown",
   "id": "7425b880",
   "metadata": {},
   "source": [
    "VOLVEMOS A COMPROBAR LOS DATOS"
   ]
  },
  {
   "cell_type": "code",
   "execution_count": null,
   "id": "5158dcbb",
   "metadata": {},
   "outputs": [],
   "source": [
    "df_pyspark.printSchema()"
   ]
  },
  {
   "cell_type": "code",
   "execution_count": null,
   "id": "4dcc3380",
   "metadata": {},
   "outputs": [],
   "source": [
    "df_pyspark.dtypes"
   ]
  },
  {
   "cell_type": "code",
   "execution_count": null,
   "id": "798af2f7",
   "metadata": {},
   "outputs": [],
   "source": [
    "df_pyspark.describe().show()"
   ]
  },
  {
   "cell_type": "markdown",
   "id": "4349715e",
   "metadata": {},
   "source": [
    "MOSTRAMOS LOS PRIMEROS VALORES"
   ]
  },
  {
   "cell_type": "code",
   "execution_count": null,
   "id": "2cd5c13d",
   "metadata": {},
   "outputs": [],
   "source": [
    "df_pyspark.head(3)"
   ]
  },
  {
   "cell_type": "markdown",
   "id": "98a68d4b",
   "metadata": {},
   "source": [
    "#### SELECCIONAR COLUMNAS (select)"
   ]
  },
  {
   "cell_type": "markdown",
   "id": "7f033842",
   "metadata": {},
   "source": [
    "SELECCIONAR COLUMNAS POR NOMBRE"
   ]
  },
  {
   "cell_type": "code",
   "execution_count": null,
   "id": "e4e8920f",
   "metadata": {},
   "outputs": [],
   "source": [
    "df_pyspark.select(['Name', 'Experience']).show()"
   ]
  },
  {
   "cell_type": "code",
   "execution_count": null,
   "id": "4eed0f25",
   "metadata": {},
   "outputs": [],
   "source": [
    "df_pyspark['Name']"
   ]
  },
  {
   "cell_type": "markdown",
   "id": "ade3b90c",
   "metadata": {},
   "source": [
    "SELECCIONAR COLUMNAS POR ÍNDICE"
   ]
  },
  {
   "cell_type": "markdown",
   "id": "13519351",
   "metadata": {},
   "source": [
    "No existe el comando como tal, pero podemos trampearlo de esta forma:"
   ]
  },
  {
   "cell_type": "code",
   "execution_count": null,
   "id": "0bc84cc6",
   "metadata": {},
   "outputs": [],
   "source": [
    "# El método columns nos devuelve una lista de las columnas que le indiquemos por índice\n",
    "\n",
    "df_pyspark.columns[:3]"
   ]
  },
  {
   "cell_type": "code",
   "execution_count": null,
   "id": "3ce6c4ae",
   "metadata": {},
   "outputs": [],
   "source": [
    "# De este modo, podemos obtener de forma indirecta las columnas por índice\n",
    "\n",
    "df_pyspark.select(df_pyspark.columns[:3]).show(3)"
   ]
  },
  {
   "cell_type": "markdown",
   "id": "0dc7ee61",
   "metadata": {},
   "source": [
    "#### AÑADIR, ELIMINAR Y RENOMBRAR COLUMNAS"
   ]
  },
  {
   "cell_type": "markdown",
   "id": "08595b60",
   "metadata": {},
   "source": [
    "AÑADIR COLUMNAS"
   ]
  },
  {
   "cell_type": "code",
   "execution_count": null,
   "id": "227fcee5",
   "metadata": {},
   "outputs": [],
   "source": [
    "df_pyspark_new_column = df_pyspark.withColumn('Experience after 2 years', df_pyspark['Experience']+2) # Nombre de la columna y valores de la columna"
   ]
  },
  {
   "cell_type": "code",
   "execution_count": null,
   "id": "c26bdaff",
   "metadata": {},
   "outputs": [],
   "source": [
    "df_pyspark_new_column.show()"
   ]
  },
  {
   "cell_type": "markdown",
   "id": "c104a4a2",
   "metadata": {},
   "source": [
    "ELIMINAR COLUMNAS"
   ]
  },
  {
   "cell_type": "code",
   "execution_count": null,
   "id": "67252acb",
   "metadata": {},
   "outputs": [],
   "source": [
    "df_pyspark_drop_column = df_pyspark.drop('Experience after 2 years')"
   ]
  },
  {
   "cell_type": "code",
   "execution_count": null,
   "id": "dbaaaf72",
   "metadata": {},
   "outputs": [],
   "source": [
    "df_pyspark_drop_column.show()"
   ]
  },
  {
   "cell_type": "markdown",
   "id": "63799878",
   "metadata": {},
   "source": [
    "RENOMBRAR COLUMNAS"
   ]
  },
  {
   "cell_type": "code",
   "execution_count": null,
   "id": "6c023025",
   "metadata": {},
   "outputs": [],
   "source": [
    "df_pyspark.withColumnRenamed('Name', 'New_name').show()"
   ]
  }
 ],
 "metadata": {
  "kernelspec": {
   "display_name": "Python 3.7.4 64-bit",
   "language": "python",
   "name": "python3"
  },
  "language_info": {
   "codemirror_mode": {
    "name": "ipython",
    "version": 3
   },
   "file_extension": ".py",
   "mimetype": "text/x-python",
   "name": "python",
   "nbconvert_exporter": "python",
   "pygments_lexer": "ipython3",
   "version": "3.7.9"
  },
  "vscode": {
   "interpreter": {
    "hash": "90139cb9a825bf3d63f6f6704e828dbd1ff7edbd4d0c6e906a71235d6efc74af"
   }
  }
 },
 "nbformat": 4,
 "nbformat_minor": 5
}
