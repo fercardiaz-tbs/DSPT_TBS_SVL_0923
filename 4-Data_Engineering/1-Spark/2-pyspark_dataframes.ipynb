{
 "cells": [
  {
   "cell_type": "markdown",
   "id": "a4e3626d",
   "metadata": {},
   "source": [
    "# Pyspark Dataframes\n",
    "### Qué vamos a ver\n",
    "- PySpark Dataframe \n",
    "- Leer un dataset\n",
    "- Comprobar los Datatypes de las columnas (Schema)\n",
    "- Seleccionar columnas e indexarlas\n",
    "- Check Describe option similar to Pandas\n",
    "- Añadir columnas\n",
    "- Eliminar columnas\n",
    "- Renombrar Columnas"
   ]
  },
  {
   "cell_type": "code",
   "execution_count": 1,
   "id": "beb48484",
   "metadata": {},
   "outputs": [],
   "source": [
    "import pyspark\n",
    "from pyspark.sql import SparkSession"
   ]
  },
  {
   "cell_type": "code",
   "execution_count": 2,
   "id": "74bf850d",
   "metadata": {},
   "outputs": [
    {
     "name": "stderr",
     "output_type": "stream",
     "text": [
      "your 131072x1 screen size is bogus. expect trouble\n",
      "24/03/06 19:37:45 WARN Utils: Your hostname, DESKTOP-8EEJDSD resolves to a loopback address: 127.0.1.1; using 172.28.93.32 instead (on interface eth0)\n",
      "24/03/06 19:37:45 WARN Utils: Set SPARK_LOCAL_IP if you need to bind to another address\n",
      "Setting default log level to \"WARN\".\n",
      "To adjust logging level use sc.setLogLevel(newLevel). For SparkR, use setLogLevel(newLevel).\n",
      "24/03/06 19:37:49 WARN NativeCodeLoader: Unable to load native-hadoop library for your platform... using builtin-java classes where applicable\n"
     ]
    }
   ],
   "source": [
    "spark = SparkSession.builder.appName('Practise').getOrCreate()"
   ]
  },
  {
   "cell_type": "code",
   "execution_count": 3,
   "id": "c8ec9421",
   "metadata": {},
   "outputs": [
    {
     "data": {
      "text/html": [
       "\n",
       "            <div>\n",
       "                <p><b>SparkSession - in-memory</b></p>\n",
       "                \n",
       "        <div>\n",
       "            <p><b>SparkContext</b></p>\n",
       "\n",
       "            <p><a href=\"http://172.28.93.32:4040\">Spark UI</a></p>\n",
       "\n",
       "            <dl>\n",
       "              <dt>Version</dt>\n",
       "                <dd><code>v3.5.1</code></dd>\n",
       "              <dt>Master</dt>\n",
       "                <dd><code>local[*]</code></dd>\n",
       "              <dt>AppName</dt>\n",
       "                <dd><code>Practise</code></dd>\n",
       "            </dl>\n",
       "        </div>\n",
       "        \n",
       "            </div>\n",
       "        "
      ],
      "text/plain": [
       "<pyspark.sql.session.SparkSession at 0x7f9e95cf0f70>"
      ]
     },
     "execution_count": 3,
     "metadata": {},
     "output_type": "execute_result"
    }
   ],
   "source": [
    "spark"
   ]
  },
  {
   "cell_type": "markdown",
   "id": "d6a0eede",
   "metadata": {},
   "source": [
    "LEEMOS EL DATASET"
   ]
  },
  {
   "cell_type": "code",
   "execution_count": 4,
   "id": "bad76311",
   "metadata": {},
   "outputs": [
    {
     "name": "stderr",
     "output_type": "stream",
     "text": [
      "                                                                                \r"
     ]
    },
    {
     "name": "stdout",
     "output_type": "stream",
     "text": [
      "+---------+---+----------+------+\n",
      "|     Name|age|Experience|Salary|\n",
      "+---------+---+----------+------+\n",
      "|    Krish| 31|        10| 30000|\n",
      "|Sudhanshu| 30|         8| 25000|\n",
      "|    Sunny| 29|         4| 20000|\n",
      "|     Paul| 24|         3| 20000|\n",
      "|   Harsha| 21|         1| 15000|\n",
      "|  Shubham| 23|         2| 18000|\n",
      "+---------+---+----------+------+\n",
      "\n"
     ]
    }
   ],
   "source": [
    "df_pyspark = spark.read.option('header', 'true').csv('data/test1.csv')\n",
    "df_pyspark.show()"
   ]
  },
  {
   "cell_type": "markdown",
   "id": "bc4c194c",
   "metadata": {},
   "source": [
    "COMPROBAMOS EL TIPO DE DATOS QUE TENEMOS"
   ]
  },
  {
   "cell_type": "code",
   "execution_count": 5,
   "id": "85a9ce1f",
   "metadata": {},
   "outputs": [
    {
     "name": "stdout",
     "output_type": "stream",
     "text": [
      "root\n",
      " |-- Name: string (nullable = true)\n",
      " |-- age: string (nullable = true)\n",
      " |-- Experience: string (nullable = true)\n",
      " |-- Salary: string (nullable = true)\n",
      "\n"
     ]
    }
   ],
   "source": [
    "df_pyspark.printSchema()"
   ]
  },
  {
   "cell_type": "code",
   "execution_count": 6,
   "id": "1f62ab79",
   "metadata": {},
   "outputs": [
    {
     "name": "stderr",
     "output_type": "stream",
     "text": [
      "                                                                                \r"
     ]
    },
    {
     "name": "stdout",
     "output_type": "stream",
     "text": [
      "+---------+---+----------+------+\n",
      "|     Name|age|Experience|Salary|\n",
      "+---------+---+----------+------+\n",
      "|    Krish| 31|        10| 30000|\n",
      "|Sudhanshu| 30|         8| 25000|\n",
      "|    Sunny| 29|         4| 20000|\n",
      "|     Paul| 24|         3| 20000|\n",
      "|   Harsha| 21|         1| 15000|\n",
      "|  Shubham| 23|         2| 18000|\n",
      "+---------+---+----------+------+\n",
      "\n"
     ]
    }
   ],
   "source": [
    "df_pyspark = spark.read.csv('data/test1.csv', header=True, inferSchema=True) # equivalente a spark.read.option('header', 'true').option('inferSchema', 'true').csv('data/test1.csv')\n",
    "df_pyspark.show()"
   ]
  },
  {
   "cell_type": "code",
   "execution_count": null,
   "id": "0d6daa12",
   "metadata": {},
   "outputs": [],
   "source": [
    "# también podríamos pasarle el esquema manualmente, muy útil para formatos timestamps por ejemplo\n",
    "\n",
    "# Ejemplo:\n",
    "# data_schema = [StructField(\"time\", TimestampType(), True),\n",
    "#                StructField(\"action\", StringType(), True)]\n",
    "\n",
    "# df_pyspark = spark.read.format(\"csv\").option(\"header\", True).schema(data_schema).load(\"file.csv\")"
   ]
  },
  {
   "cell_type": "markdown",
   "id": "7425b880",
   "metadata": {},
   "source": [
    "VOLVEMOS A COMPROBAR LOS DATOS"
   ]
  },
  {
   "cell_type": "code",
   "execution_count": 7,
   "id": "5158dcbb",
   "metadata": {},
   "outputs": [
    {
     "name": "stdout",
     "output_type": "stream",
     "text": [
      "root\n",
      " |-- Name: string (nullable = true)\n",
      " |-- age: integer (nullable = true)\n",
      " |-- Experience: integer (nullable = true)\n",
      " |-- Salary: integer (nullable = true)\n",
      "\n"
     ]
    }
   ],
   "source": [
    "df_pyspark.printSchema()"
   ]
  },
  {
   "cell_type": "code",
   "execution_count": 8,
   "id": "4dcc3380",
   "metadata": {},
   "outputs": [
    {
     "data": {
      "text/plain": [
       "[('Name', 'string'), ('age', 'int'), ('Experience', 'int'), ('Salary', 'int')]"
      ]
     },
     "execution_count": 8,
     "metadata": {},
     "output_type": "execute_result"
    }
   ],
   "source": [
    "df_pyspark.dtypes"
   ]
  },
  {
   "cell_type": "code",
   "execution_count": 9,
   "id": "798af2f7",
   "metadata": {},
   "outputs": [
    {
     "name": "stderr",
     "output_type": "stream",
     "text": [
      "24/03/06 19:42:44 WARN SparkStringUtils: Truncated the string representation of a plan since it was too large. This behavior can be adjusted by setting 'spark.sql.debug.maxToStringFields'.\n",
      "[Stage 7:>                                                          (0 + 1) / 1]\r"
     ]
    },
    {
     "name": "stdout",
     "output_type": "stream",
     "text": [
      "+-------+------+------------------+-----------------+------------------+\n",
      "|summary|  Name|               age|       Experience|            Salary|\n",
      "+-------+------+------------------+-----------------+------------------+\n",
      "|  count|     6|                 6|                6|                 6|\n",
      "|   mean|  NULL|26.333333333333332|4.666666666666667|21333.333333333332|\n",
      "| stddev|  NULL| 4.179314138308661|3.559026084010437| 5354.126134736337|\n",
      "|    min|Harsha|                21|                1|             15000|\n",
      "|    max| Sunny|                31|               10|             30000|\n",
      "+-------+------+------------------+-----------------+------------------+\n",
      "\n"
     ]
    },
    {
     "name": "stderr",
     "output_type": "stream",
     "text": [
      "                                                                                \r"
     ]
    }
   ],
   "source": [
    "df_pyspark.describe().show()"
   ]
  },
  {
   "cell_type": "code",
   "execution_count": 10,
   "id": "8a1d8d6a",
   "metadata": {},
   "outputs": [],
   "source": [
    "x = df_pyspark.describe()"
   ]
  },
  {
   "cell_type": "code",
   "execution_count": 14,
   "id": "c56ab2fd",
   "metadata": {},
   "outputs": [
    {
     "name": "stdout",
     "output_type": "stream",
     "text": [
      "+-------+------+------------------+-----------------+------------------+\n",
      "|summary|  Name|               age|       Experience|            Salary|\n",
      "+-------+------+------------------+-----------------+------------------+\n",
      "|  count|     6|                 6|                6|                 6|\n",
      "|   mean|  NULL|26.333333333333332|4.666666666666667|21333.333333333332|\n",
      "| stddev|  NULL| 4.179314138308661|3.559026084010437| 5354.126134736337|\n",
      "|    min|Harsha|                21|                1|             15000|\n",
      "|    max| Sunny|                31|               10|             30000|\n",
      "+-------+------+------------------+-----------------+------------------+\n",
      "\n"
     ]
    }
   ],
   "source": [
    "x.show()"
   ]
  },
  {
   "cell_type": "markdown",
   "id": "4349715e",
   "metadata": {},
   "source": [
    "MOSTRAMOS LOS PRIMEROS VALORES"
   ]
  },
  {
   "cell_type": "code",
   "execution_count": 16,
   "id": "2ef6dc85",
   "metadata": {},
   "outputs": [
    {
     "data": {
      "text/plain": [
       "pandas.core.frame.DataFrame"
      ]
     },
     "execution_count": 16,
     "metadata": {},
     "output_type": "execute_result"
    }
   ],
   "source": [
    "import pandas as pd\n",
    "\n",
    "df = pd.read_csv(\"data/test1.csv\")\n",
    "\n",
    "type(df.head(5))"
   ]
  },
  {
   "cell_type": "code",
   "execution_count": 21,
   "id": "2cd5c13d",
   "metadata": {},
   "outputs": [],
   "source": [
    "javi = df_pyspark.head(3)"
   ]
  },
  {
   "cell_type": "markdown",
   "id": "98a68d4b",
   "metadata": {},
   "source": [
    "#### SELECCIONAR COLUMNAS (select)"
   ]
  },
  {
   "cell_type": "markdown",
   "id": "7f033842",
   "metadata": {},
   "source": [
    "SELECCIONAR COLUMNAS POR NOMBRE"
   ]
  },
  {
   "cell_type": "code",
   "execution_count": null,
   "id": "e4e8920f",
   "metadata": {},
   "outputs": [],
   "source": [
    "df_pyspark.select(['Name', 'Experience']).show()"
   ]
  },
  {
   "cell_type": "code",
   "execution_count": 24,
   "id": "893e8831",
   "metadata": {},
   "outputs": [
    {
     "data": {
      "text/plain": [
       "DataFrame[Name: string, Experience: int]"
      ]
     },
     "execution_count": 24,
     "metadata": {},
     "output_type": "execute_result"
    }
   ],
   "source": [
    "df_pyspark[['Name','Experience']]"
   ]
  },
  {
   "cell_type": "code",
   "execution_count": null,
   "id": "4eed0f25",
   "metadata": {},
   "outputs": [],
   "source": [
    "df_pyspark['Name']"
   ]
  },
  {
   "cell_type": "markdown",
   "id": "ade3b90c",
   "metadata": {},
   "source": [
    "SELECCIONAR COLUMNAS POR ÍNDICE"
   ]
  },
  {
   "cell_type": "markdown",
   "id": "13519351",
   "metadata": {},
   "source": [
    "No existe el comando como tal, pero podemos trampearlo de esta forma:"
   ]
  },
  {
   "cell_type": "code",
   "execution_count": null,
   "id": "0bc84cc6",
   "metadata": {},
   "outputs": [],
   "source": [
    "# El método columns nos devuelve una lista de las columnas que le indiquemos por índice\n",
    "\n",
    "df_pyspark.columns[:3]"
   ]
  },
  {
   "cell_type": "code",
   "execution_count": null,
   "id": "3ce6c4ae",
   "metadata": {},
   "outputs": [],
   "source": [
    "# De este modo, podemos obtener de forma indirecta las columnas por índice\n",
    "\n",
    "df_pyspark.select(df_pyspark.columns[:3]).show(3)"
   ]
  },
  {
   "cell_type": "markdown",
   "id": "0dc7ee61",
   "metadata": {},
   "source": [
    "#### AÑADIR, ELIMINAR Y RENOMBRAR COLUMNAS"
   ]
  },
  {
   "cell_type": "markdown",
   "id": "08595b60",
   "metadata": {},
   "source": [
    "AÑADIR COLUMNAS"
   ]
  },
  {
   "cell_type": "code",
   "execution_count": 25,
   "id": "227fcee5",
   "metadata": {},
   "outputs": [],
   "source": [
    "df_pyspark_new_column = df_pyspark.withColumn('Experience after 2 years', df_pyspark['Experience']+2) # Nombre de la columna y valores de la columna"
   ]
  },
  {
   "cell_type": "code",
   "execution_count": 26,
   "id": "c26bdaff",
   "metadata": {},
   "outputs": [
    {
     "name": "stdout",
     "output_type": "stream",
     "text": [
      "+---------+---+----------+------+------------------------+\n",
      "|     Name|age|Experience|Salary|Experience after 2 years|\n",
      "+---------+---+----------+------+------------------------+\n",
      "|    Krish| 31|        10| 30000|                      12|\n",
      "|Sudhanshu| 30|         8| 25000|                      10|\n",
      "|    Sunny| 29|         4| 20000|                       6|\n",
      "|     Paul| 24|         3| 20000|                       5|\n",
      "|   Harsha| 21|         1| 15000|                       3|\n",
      "|  Shubham| 23|         2| 18000|                       4|\n",
      "+---------+---+----------+------+------------------------+\n",
      "\n"
     ]
    }
   ],
   "source": [
    "df_pyspark_new_column.show()"
   ]
  },
  {
   "cell_type": "markdown",
   "id": "c104a4a2",
   "metadata": {},
   "source": [
    "ELIMINAR COLUMNAS"
   ]
  },
  {
   "cell_type": "code",
   "execution_count": 27,
   "id": "67252acb",
   "metadata": {},
   "outputs": [],
   "source": [
    "df_pyspark_drop_column = df_pyspark.drop('Experience after 2 years')"
   ]
  },
  {
   "cell_type": "code",
   "execution_count": 28,
   "id": "dbaaaf72",
   "metadata": {},
   "outputs": [
    {
     "name": "stdout",
     "output_type": "stream",
     "text": [
      "+---------+---+----------+------+\n",
      "|     Name|age|Experience|Salary|\n",
      "+---------+---+----------+------+\n",
      "|    Krish| 31|        10| 30000|\n",
      "|Sudhanshu| 30|         8| 25000|\n",
      "|    Sunny| 29|         4| 20000|\n",
      "|     Paul| 24|         3| 20000|\n",
      "|   Harsha| 21|         1| 15000|\n",
      "|  Shubham| 23|         2| 18000|\n",
      "+---------+---+----------+------+\n",
      "\n"
     ]
    }
   ],
   "source": [
    "df_pyspark_drop_column.show()"
   ]
  },
  {
   "cell_type": "markdown",
   "id": "63799878",
   "metadata": {},
   "source": [
    "RENOMBRAR COLUMNAS"
   ]
  },
  {
   "cell_type": "code",
   "execution_count": 29,
   "id": "6c023025",
   "metadata": {},
   "outputs": [
    {
     "name": "stdout",
     "output_type": "stream",
     "text": [
      "+---------+---+----------+------+\n",
      "| New_name|age|Experience|Salary|\n",
      "+---------+---+----------+------+\n",
      "|    Krish| 31|        10| 30000|\n",
      "|Sudhanshu| 30|         8| 25000|\n",
      "|    Sunny| 29|         4| 20000|\n",
      "|     Paul| 24|         3| 20000|\n",
      "|   Harsha| 21|         1| 15000|\n",
      "|  Shubham| 23|         2| 18000|\n",
      "+---------+---+----------+------+\n",
      "\n"
     ]
    }
   ],
   "source": [
    "df_pyspark.withColumnRenamed('Name', 'New_name').show()"
   ]
  }
 ],
 "metadata": {
  "kernelspec": {
   "display_name": "Python 3.7.4 64-bit",
   "language": "python",
   "name": "python3"
  },
  "language_info": {
   "codemirror_mode": {
    "name": "ipython",
    "version": 3
   },
   "file_extension": ".py",
   "mimetype": "text/x-python",
   "name": "python",
   "nbconvert_exporter": "python",
   "pygments_lexer": "ipython3",
   "version": "3.8.10"
  },
  "vscode": {
   "interpreter": {
    "hash": "90139cb9a825bf3d63f6f6704e828dbd1ff7edbd4d0c6e906a71235d6efc74af"
   }
  }
 },
 "nbformat": 4,
 "nbformat_minor": 5
}
