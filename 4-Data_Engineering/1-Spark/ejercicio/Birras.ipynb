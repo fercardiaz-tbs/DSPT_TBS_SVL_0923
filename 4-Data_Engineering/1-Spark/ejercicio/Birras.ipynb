{
 "cells": [
  {
   "cell_type": "markdown",
   "metadata": {},
   "source": [
    "![imagen](https://cdn.foodbeast.com/content/wp-content/uploads/2012/03/beer-print-01-selectism.jpg)\n",
    "\n",
    "# Ejercicio PySpark de pereza absoluta y total\n",
    "Para este ejercicio se ha utilizado [un dataset de un concurso de kaggle](https://www.kaggle.com/nickhould/craft-cans), cuyo reto consiste en predecir el tipo de cerveza en función de sus características (nivel de alcohol, amargura, tamaño...).\n",
    "\n",
    "# Ejercicio 1\n",
    "Importa las librerias que consideres"
   ]
  },
  {
   "cell_type": "code",
   "execution_count": 75,
   "metadata": {},
   "outputs": [],
   "source": [
    "import pyspark\n",
    "from pyspark.sql import SparkSession"
   ]
  },
  {
   "cell_type": "code",
   "execution_count": 76,
   "metadata": {},
   "outputs": [],
   "source": [
    "\n",
    "spark =SparkSession.builder.appName('Beers').getOrCreate() #Inicia sesión para oder utilizar los comandos de spark\n"
   ]
  },
  {
   "cell_type": "code",
   "execution_count": 77,
   "metadata": {},
   "outputs": [
    {
     "data": {
      "text/html": [
       "\n",
       "            <div>\n",
       "                <p><b>SparkSession - in-memory</b></p>\n",
       "                \n",
       "        <div>\n",
       "            <p><b>SparkContext</b></p>\n",
       "\n",
       "            <p><a href=\"http://172.18.231.103:4040\">Spark UI</a></p>\n",
       "\n",
       "            <dl>\n",
       "              <dt>Version</dt>\n",
       "                <dd><code>v3.5.1</code></dd>\n",
       "              <dt>Master</dt>\n",
       "                <dd><code>local[*]</code></dd>\n",
       "              <dt>AppName</dt>\n",
       "                <dd><code>Beers</code></dd>\n",
       "            </dl>\n",
       "        </div>\n",
       "        \n",
       "            </div>\n",
       "        "
      ],
      "text/plain": [
       "<pyspark.sql.session.SparkSession at 0x7f416dac6a30>"
      ]
     },
     "execution_count": 77,
     "metadata": {},
     "output_type": "execute_result"
    }
   ],
   "source": [
    "spark"
   ]
  },
  {
   "cell_type": "markdown",
   "metadata": {},
   "source": [
    "## Ejercicio 2\n",
    "1. Importa el dataset \"datasets_beer.csv\"\n",
    "2. Imprime por pantalla los primeros registros.\n",
    "3. ¿Cuáles son sus columnas?\n",
    "4. ¿Qué dimensiones tiene el DataFrame?"
   ]
  },
  {
   "cell_type": "code",
   "execution_count": 78,
   "metadata": {},
   "outputs": [],
   "source": [
    "df = spark.read.csv(\"beers.csv\",header=True,inferSchema=True)"
   ]
  },
  {
   "cell_type": "code",
   "execution_count": 79,
   "metadata": {},
   "outputs": [
    {
     "name": "stdout",
     "output_type": "stream",
     "text": [
      "+---+-------------------+----+----+--------------------+--------------------+----------+------+\n",
      "|_c0|                abv| ibu|  id|                name|               style|brewery_id|ounces|\n",
      "+---+-------------------+----+----+--------------------+--------------------+----------+------+\n",
      "|  0|               0.05|NULL|1436|            Pub Beer| American Pale Lager|       408|  12.0|\n",
      "|  1|              0.066|NULL|2265|         Devil's Cup|American Pale Ale...|       177|  12.0|\n",
      "|  2|              0.071|NULL|2264| Rise of the Phoenix|        American IPA|       177|  12.0|\n",
      "|  3|               0.09|NULL|2263|            Sinister|American Double /...|       177|  12.0|\n",
      "|  4|              0.075|NULL|2262|       Sex and Candy|        American IPA|       177|  12.0|\n",
      "|  5|              0.077|NULL|2261|        Black Exodus|       Oatmeal Stout|       177|  12.0|\n",
      "|  6|              0.045|NULL|2260| Lake Street Express|American Pale Ale...|       177|  12.0|\n",
      "|  7|              0.065|NULL|2259|             Foreman|     American Porter|       177|  12.0|\n",
      "|  8|              0.055|NULL|2258|                Jade|American Pale Ale...|       177|  12.0|\n",
      "|  9|              0.086|NULL|2131|        Cone Crusher|American Double /...|       177|  12.0|\n",
      "| 10|0.07200000000000001|NULL|2099|   Sophomoric Saison|Saison / Farmhous...|       177|  12.0|\n",
      "| 11|              0.073|NULL|2098|Regional Ring Of ...|Saison / Farmhous...|       177|  12.0|\n",
      "| 12|              0.069|NULL|2097|          Garce Selé|Saison / Farmhous...|       177|  12.0|\n",
      "| 13|              0.085|NULL|1980|     Troll Destroyer|         Belgian IPA|       177|  12.0|\n",
      "| 14|              0.061|60.0|1979|        Bitter Bitch|American Pale Ale...|       177|  12.0|\n",
      "| 15|               0.06|NULL|2318|         Ginja Ninja|               Cider|       154|  12.0|\n",
      "| 16|               0.06|NULL|2170|       Cherried Away|               Cider|       154|  12.0|\n",
      "| 17|               0.06|NULL|2169|        Rhubarbarian|               Cider|       154|  12.0|\n",
      "| 18|               0.06|NULL|1502|         BrightCider|               Cider|       154|  12.0|\n",
      "| 19|0.08199999999999999|NULL|1593|He Said Baltic-St...|       Baltic Porter|       368|  12.0|\n",
      "+---+-------------------+----+----+--------------------+--------------------+----------+------+\n",
      "only showing top 20 rows\n",
      "\n"
     ]
    },
    {
     "name": "stderr",
     "output_type": "stream",
     "text": [
      "24/03/09 13:22:41 WARN CSVHeaderChecker: CSV header does not conform to the schema.\n",
      " Header: , abv, ibu, id, name, style, brewery_id, ounces\n",
      " Schema: _c0, abv, ibu, id, name, style, brewery_id, ounces\n",
      "Expected: _c0 but found: \n",
      "CSV file: file:///home/carlos/2023/DSPT_TBS_SVL_0923/4-Data_Engineering/1-Spark/ejercicio/beers.csv\n"
     ]
    }
   ],
   "source": [
    "df.show()"
   ]
  },
  {
   "cell_type": "code",
   "execution_count": 80,
   "metadata": {},
   "outputs": [
    {
     "data": {
      "text/plain": [
       "['_c0', 'abv', 'ibu', 'id', 'name', 'style', 'brewery_id', 'ounces']"
      ]
     },
     "execution_count": 80,
     "metadata": {},
     "output_type": "execute_result"
    }
   ],
   "source": [
    "df.columns"
   ]
  },
  {
   "cell_type": "code",
   "execution_count": 81,
   "metadata": {},
   "outputs": [
    {
     "name": "stdout",
     "output_type": "stream",
     "text": [
      "Filas: 2410 | Columnas: 8\n"
     ]
    }
   ],
   "source": [
    "print(f\"Filas: {df.count()} | Columnas: {len(df.columns)}\")"
   ]
  },
  {
   "cell_type": "markdown",
   "metadata": {},
   "source": [
    "## Ejercicio 3\n",
    "[Elimina la columna \"Unnamed: 0\"](https://pandas.pydata.org/pandas-docs/stable/reference/api/pandas.DataFrame.drop.html)"
   ]
  },
  {
   "cell_type": "code",
   "execution_count": 82,
   "metadata": {},
   "outputs": [],
   "source": [
    "df = df.drop(\"_c0\")"
   ]
  },
  {
   "cell_type": "markdown",
   "metadata": {},
   "source": [
    "## Ejercicio 4\n",
    "¿Cuántas filas y columnas tiene el dataset?"
   ]
  },
  {
   "cell_type": "code",
   "execution_count": 83,
   "metadata": {},
   "outputs": [
    {
     "name": "stdout",
     "output_type": "stream",
     "text": [
      "Filas: 2410 | Columnas: 7\n"
     ]
    }
   ],
   "source": [
    "print(f\"Filas: {df.count()} | Columnas: {len(df.columns)}\")"
   ]
  },
  {
   "cell_type": "markdown",
   "metadata": {},
   "source": [
    "## Ejercicio 5\n",
    "¿De qué tipo son los datos?"
   ]
  },
  {
   "cell_type": "code",
   "execution_count": 84,
   "metadata": {},
   "outputs": [
    {
     "name": "stdout",
     "output_type": "stream",
     "text": [
      "root\n",
      " |-- abv: double (nullable = true)\n",
      " |-- ibu: double (nullable = true)\n",
      " |-- id: integer (nullable = true)\n",
      " |-- name: string (nullable = true)\n",
      " |-- style: string (nullable = true)\n",
      " |-- brewery_id: integer (nullable = true)\n",
      " |-- ounces: double (nullable = true)\n",
      "\n"
     ]
    }
   ],
   "source": [
    "df.printSchema()"
   ]
  },
  {
   "cell_type": "markdown",
   "metadata": {},
   "source": [
    "## Ejercicio 6\n",
    "Obtén en una nuevo DataFrame un resumen con las principales estadísticas de las columnas numércias: mean, max, count, cuartiles..."
   ]
  },
  {
   "cell_type": "code",
   "execution_count": 85,
   "metadata": {},
   "outputs": [
    {
     "name": "stderr",
     "output_type": "stream",
     "text": [
      "[Stage 102:>                                                        (0 + 1) / 1]\r"
     ]
    },
    {
     "name": "stdout",
     "output_type": "stream",
     "text": [
      "+-------+--------------------+------------------+------------------+--------------------+----------------+------------------+------------------+\n",
      "|summary|                 abv|               ibu|                id|                name|           style|        brewery_id|            ounces|\n",
      "+-------+--------------------+------------------+------------------+--------------------+----------------+------------------+------------------+\n",
      "|  count|                2348|              1405|              2410|                2410|            2405|              2410|              2410|\n",
      "|   mean| 0.05977342419080093| 42.71316725978647|1431.1132780082987|  1377.6666666666667|            NULL|231.74979253112033|13.592240663900421|\n",
      "| stddev|0.013541733716680274|25.954065911259327|  752.459974559907|   524.9231689812647|            NULL|157.68560410041613|2.3522036778603725|\n",
      "|    min|               0.001|               4.0|                 1|#001 Golden Amber...|Abbey Single Ale|                 0|               8.4|\n",
      "|    max|               0.128|             138.0|              2692|the Kimmie, the Y...|         Witbier|               557|              32.0|\n",
      "+-------+--------------------+------------------+------------------+--------------------+----------------+------------------+------------------+\n",
      "\n"
     ]
    },
    {
     "name": "stderr",
     "output_type": "stream",
     "text": [
      "                                                                                \r"
     ]
    }
   ],
   "source": [
    "df.describe().show()"
   ]
  },
  {
   "cell_type": "markdown",
   "metadata": {},
   "source": [
    "## Ejercicio 7\n",
    "¿Cuántas birras hay de cada estilo en este dataset? [Investiga en la documentación de Series](https://pandas.pydata.org/pandas-docs/stable/reference/api/pandas.Series.html) si puedes hacer un conteo de valores."
   ]
  },
  {
   "cell_type": "code",
   "execution_count": 86,
   "metadata": {},
   "outputs": [
    {
     "name": "stdout",
     "output_type": "stream",
     "text": [
      "+--------------------+-----+\n",
      "|               style|count|\n",
      "+--------------------+-----+\n",
      "|American Pale Ale...|  245|\n",
      "|American Double /...|  105|\n",
      "| American Barleywine|    3|\n",
      "|  English Strong Ale|    4|\n",
      "|American Amber / ...|  133|\n",
      "|             Altbier|   13|\n",
      "|Märzen / Oktoberfest|   30|\n",
      "| American Strong Ale|   14|\n",
      "|              Radler|    3|\n",
      "|           Rauchbier|    2|\n",
      "|      Bière de Garde|    7|\n",
      "|Herbed / Spiced Beer|    9|\n",
      "|American Adjunct ...|   18|\n",
      "|        Scottish Ale|   19|\n",
      "|         Smoked Beer|    1|\n",
      "|         Light Lager|   12|\n",
      "|       Kristalweizen|    1|\n",
      "|              Tripel|   11|\n",
      "|  American Black Ale|   36|\n",
      "|    Belgian Pale Ale|   24|\n",
      "+--------------------+-----+\n",
      "only showing top 20 rows\n",
      "\n"
     ]
    }
   ],
   "source": [
    "df.groupby('style').count().show()"
   ]
  },
  {
   "cell_type": "markdown",
   "metadata": {},
   "source": [
    "## Ejercicio 8\n",
    "1. Imprime por pantalla los registros del 10 al 20\n",
    "2. De esos registros, imprime por pantalla desde la columna `name` a `ounces`, ambas incluidas\n",
    "3. Quédate con las columnas `abv`, `ibu` y `ounces`, y además quédate sólo con los registros 10 al 20.\n",
    "4. Convierte el resultado del apartado 3 en un array de `numpy`"
   ]
  },
  {
   "cell_type": "code",
   "execution_count": 87,
   "metadata": {},
   "outputs": [
    {
     "data": {
      "text/plain": [
       "DataFrame[name: string, style: string, brewery_id: int, ounces: double]"
      ]
     },
     "execution_count": 87,
     "metadata": {},
     "output_type": "execute_result"
    }
   ],
   "source": [
    "df.select(df.columns[3:])"
   ]
  },
  {
   "cell_type": "markdown",
   "metadata": {},
   "source": [
    "## Ejercicio 9\n",
    "¿Cuántas onzas pesan todas las birras del dataset?"
   ]
  },
  {
   "cell_type": "code",
   "execution_count": 88,
   "metadata": {},
   "outputs": [],
   "source": [
    "import pyspark.sql.functions as spfun"
   ]
  },
  {
   "cell_type": "markdown",
   "metadata": {},
   "source": [
    "Funciones de Spark \n",
    "\n",
    "https://spark.apache.org/docs/latest/api/python/reference/pyspark.sql/functions.html"
   ]
  },
  {
   "cell_type": "code",
   "execution_count": 89,
   "metadata": {},
   "outputs": [
    {
     "name": "stdout",
     "output_type": "stream",
     "text": [
      "+------------------+\n",
      "|       sum(ounces)|\n",
      "+------------------+\n",
      "|32757.300000000014|\n",
      "+------------------+\n",
      "\n"
     ]
    }
   ],
   "source": [
    "df.select(spfun.sum(\"ounces\")).show()"
   ]
  },
  {
   "cell_type": "markdown",
   "metadata": {},
   "source": [
    "## Ejercicio 10\n",
    "El amargor de las cervezas se mide por su nivel de IBUs.\n",
    "1. ¿Cuál es el amargor medio de las cervezas?\n",
    "2. ¿El máximo? ¿Y el mínimo?\n",
    "3. ¿Qué cerveza es la que tiene el amargor máximo? ¿Cuál es la de amargor mínimo?"
   ]
  },
  {
   "cell_type": "code",
   "execution_count": 90,
   "metadata": {},
   "outputs": [
    {
     "name": "stdout",
     "output_type": "stream",
     "text": [
      "+-------+------------------+\n",
      "|summary|               ibu|\n",
      "+-------+------------------+\n",
      "|  count|              1405|\n",
      "|   mean| 42.71316725978647|\n",
      "| stddev|25.954065911259327|\n",
      "|    min|               4.0|\n",
      "|    max|             138.0|\n",
      "+-------+------------------+\n",
      "\n"
     ]
    }
   ],
   "source": [
    "df.describe('ibu').show()"
   ]
  },
  {
   "cell_type": "code",
   "execution_count": 91,
   "metadata": {},
   "outputs": [
    {
     "name": "stdout",
     "output_type": "stream",
     "text": [
      "+--------------------+-----+\n",
      "|                name|  ibu|\n",
      "+--------------------+-----+\n",
      "|Bitter Bitch Impe...|138.0|\n",
      "+--------------------+-----+\n",
      "only showing top 1 row\n",
      "\n"
     ]
    }
   ],
   "source": [
    "df.select(['name','ibu']).orderBy('ibu',ascending=False).show(1)"
   ]
  },
  {
   "cell_type": "code",
   "execution_count": 92,
   "metadata": {},
   "outputs": [],
   "source": [
    "x = df.select(spfun.max(\"ibu\")).first()[0]"
   ]
  },
  {
   "cell_type": "code",
   "execution_count": 93,
   "metadata": {},
   "outputs": [
    {
     "name": "stdout",
     "output_type": "stream",
     "text": [
      "+-------------------+-----+---+--------------------+--------------------+----------+------+\n",
      "|                abv|  ibu| id|                name|               style|brewery_id|ounces|\n",
      "+-------------------+-----+---+--------------------+--------------------+----------+------+\n",
      "|0.08199999999999999|138.0|980|Bitter Bitch Impe...|American Double /...|       374|  12.0|\n",
      "+-------------------+-----+---+--------------------+--------------------+----------+------+\n",
      "\n"
     ]
    }
   ],
   "source": [
    "df.filter(df['ibu'] == x).show()"
   ]
  },
  {
   "cell_type": "markdown",
   "metadata": {},
   "source": [
    "## Ejercicio 15\n",
    "1. ¿Qué estilos son los que tienen en media más alcohol?\n",
    "2. ¿Y los estilos que son en media más amargos?"
   ]
  },
  {
   "cell_type": "code",
   "execution_count": 94,
   "metadata": {},
   "outputs": [
    {
     "name": "stdout",
     "output_type": "stream",
     "text": [
      "+--------------------+-------------------+\n",
      "|               style|           avg(abv)|\n",
      "+--------------------+-------------------+\n",
      "|  English Barleywine|0.10766666666666667|\n",
      "|    Quadrupel (Quad)|0.10400000000000001|\n",
      "| American Barleywine|0.09900000000000002|\n",
      "|American Malt Liquor|              0.099|\n",
      "|Russian Imperial ...|0.09763636363636362|\n",
      "+--------------------+-------------------+\n",
      "only showing top 5 rows\n",
      "\n"
     ]
    }
   ],
   "source": [
    "df.groupby('style').agg({'abv':'mean'}).orderBy('avg(abv)',ascending=False).show(5)"
   ]
  },
  {
   "cell_type": "code",
   "execution_count": 95,
   "metadata": {},
   "outputs": [
    {
     "name": "stdout",
     "output_type": "stream",
     "text": [
      "+--------------------+--------+\n",
      "|               style|avg(ibu)|\n",
      "+--------------------+--------+\n",
      "| American Barleywine|    96.0|\n",
      "|American Double /...|   93.32|\n",
      "|Russian Imperial ...|    86.5|\n",
      "|American Double /...|    85.0|\n",
      "|Belgian Strong Da...|    72.0|\n",
      "+--------------------+--------+\n",
      "only showing top 5 rows\n",
      "\n"
     ]
    }
   ],
   "source": [
    "df.groupby('style').agg({'ibu':'mean'}).orderBy('avg(ibu)',ascending=False).show(5)"
   ]
  },
  {
   "cell_type": "markdown",
   "metadata": {},
   "source": [
    "## Ejercicio 16\n",
    "Carga el datasets de cervecerias `datasets_breweries.csv`"
   ]
  },
  {
   "cell_type": "code",
   "execution_count": 96,
   "metadata": {},
   "outputs": [],
   "source": [
    "df2 = spark.read.csv(\"breweries.csv\",header=True,inferSchema=True)"
   ]
  },
  {
   "cell_type": "code",
   "execution_count": 97,
   "metadata": {},
   "outputs": [
    {
     "name": "stdout",
     "output_type": "stream",
     "text": [
      "+---+--------------------+-------------+-----+\n",
      "|_c0|                name|         city|state|\n",
      "+---+--------------------+-------------+-----+\n",
      "|  0|  NorthGate Brewing |  Minneapolis|   MN|\n",
      "|  1|Against the Grain...|   Louisville|   KY|\n",
      "|  2|Jack's Abby Craft...|   Framingham|   MA|\n",
      "|  3|Mike Hess Brewing...|    San Diego|   CA|\n",
      "|  4|Fort Point Beer C...|San Francisco|   CA|\n",
      "|  5|COAST Brewing Com...|   Charleston|   SC|\n",
      "|  6|Great Divide Brew...|       Denver|   CO|\n",
      "|  7|    Tapistry Brewing|     Bridgman|   MI|\n",
      "|  8|    Big Lake Brewing|      Holland|   MI|\n",
      "|  9|The Mitten Brewin...| Grand Rapids|   MI|\n",
      "| 10|      Brewery Vivant| Grand Rapids|   MI|\n",
      "| 11|    Petoskey Brewing|     Petoskey|   MI|\n",
      "| 12|  Blackrocks Brewery|    Marquette|   MI|\n",
      "| 13|Perrin Brewing Co...|Comstock Park|   MI|\n",
      "| 14|Witch's Hat Brewi...|   South Lyon|   MI|\n",
      "| 15|Founders Brewing ...| Grand Rapids|   MI|\n",
      "| 16|   Flat 12 Bierwerks| Indianapolis|   IN|\n",
      "| 17|Tin Man Brewing C...|   Evansville|   IN|\n",
      "| 18|Black Acre Brewin...| Indianapolis|   IN|\n",
      "| 19|   Brew Link Brewing|   Plainfield|   IN|\n",
      "+---+--------------------+-------------+-----+\n",
      "only showing top 20 rows\n",
      "\n"
     ]
    },
    {
     "name": "stderr",
     "output_type": "stream",
     "text": [
      "24/03/09 13:22:48 WARN CSVHeaderChecker: CSV header does not conform to the schema.\n",
      " Header: , name, city, state\n",
      " Schema: _c0, name, city, state\n",
      "Expected: _c0 but found: \n",
      "CSV file: file:///home/carlos/2023/DSPT_TBS_SVL_0923/4-Data_Engineering/1-Spark/ejercicio/breweries.csv\n"
     ]
    }
   ],
   "source": [
    "df2.show()"
   ]
  },
  {
   "cell_type": "markdown",
   "metadata": {},
   "source": [
    "## Ejercicio 17\n",
    "1. Renombra la columna `Unnamed: 0` como `brewery_id`\n",
    "2. Renombra tb la columna `name` por `brewery_name`. ¿Puedes hacer ambos apartados en una sola sentencia?"
   ]
  },
  {
   "cell_type": "code",
   "execution_count": 98,
   "metadata": {},
   "outputs": [],
   "source": [
    "df2 = df2.withColumnRenamed('_c0','brewery_id').withColumnRenamed('name','brewery_name')"
   ]
  },
  {
   "cell_type": "markdown",
   "metadata": {},
   "source": [
    "## Ejercicio 18\n",
    "Junta los dos datasets que tienes"
   ]
  },
  {
   "cell_type": "code",
   "execution_count": 99,
   "metadata": {},
   "outputs": [
    {
     "name": "stdout",
     "output_type": "stream",
     "text": [
      "+-----+----+----+-------------------+--------------------+----------+------+\n",
      "|  abv| ibu|  id|               name|               style|brewery_id|ounces|\n",
      "+-----+----+----+-------------------+--------------------+----------+------+\n",
      "| 0.05|NULL|1436|           Pub Beer| American Pale Lager|       408|  12.0|\n",
      "|0.066|NULL|2265|        Devil's Cup|American Pale Ale...|       177|  12.0|\n",
      "|0.071|NULL|2264|Rise of the Phoenix|        American IPA|       177|  12.0|\n",
      "| 0.09|NULL|2263|           Sinister|American Double /...|       177|  12.0|\n",
      "|0.075|NULL|2262|      Sex and Candy|        American IPA|       177|  12.0|\n",
      "+-----+----+----+-------------------+--------------------+----------+------+\n",
      "only showing top 5 rows\n",
      "\n"
     ]
    }
   ],
   "source": [
    "df.show(5)"
   ]
  },
  {
   "cell_type": "code",
   "execution_count": 100,
   "metadata": {},
   "outputs": [
    {
     "name": "stdout",
     "output_type": "stream",
     "text": [
      "+----------+--------------------+-----------+-----+\n",
      "|brewery_id|        brewery_name|       city|state|\n",
      "+----------+--------------------+-----------+-----+\n",
      "|         0|  NorthGate Brewing |Minneapolis|   MN|\n",
      "|         1|Against the Grain...| Louisville|   KY|\n",
      "+----------+--------------------+-----------+-----+\n",
      "only showing top 2 rows\n",
      "\n"
     ]
    },
    {
     "name": "stderr",
     "output_type": "stream",
     "text": [
      "24/03/09 13:22:48 WARN CSVHeaderChecker: CSV header does not conform to the schema.\n",
      " Header: , name, city, state\n",
      " Schema: _c0, name, city, state\n",
      "Expected: _c0 but found: \n",
      "CSV file: file:///home/carlos/2023/DSPT_TBS_SVL_0923/4-Data_Engineering/1-Spark/ejercicio/breweries.csv\n"
     ]
    }
   ],
   "source": [
    "df2.show(2)"
   ]
  },
  {
   "cell_type": "code",
   "execution_count": 154,
   "metadata": {},
   "outputs": [],
   "source": [
    "dff = df.join(df2,on=\"brewery_id\",how='left')"
   ]
  },
  {
   "cell_type": "code",
   "execution_count": 156,
   "metadata": {},
   "outputs": [
    {
     "name": "stderr",
     "output_type": "stream",
     "text": [
      "24/03/09 13:43:25 WARN CSVHeaderChecker: CSV header does not conform to the schema.\n",
      " Header: , name, city, state\n",
      " Schema: _c0, name, city, state\n",
      "Expected: _c0 but found: \n",
      "CSV file: file:///home/carlos/2023/DSPT_TBS_SVL_0923/4-Data_Engineering/1-Spark/ejercicio/breweries.csv\n"
     ]
    },
    {
     "name": "stdout",
     "output_type": "stream",
     "text": [
      "+----------+-----+----+----+-------------------+--------------------+------+--------------------+----+-----+\n",
      "|brewery_id|  abv| ibu|  id|               name|               style|ounces|        brewery_name|city|state|\n",
      "+----------+-----+----+----+-------------------+--------------------+------+--------------------+----+-----+\n",
      "|       408| 0.05|NULL|1436|           Pub Beer| American Pale Lager|  12.0|10 Barrel Brewing...|Bend|   OR|\n",
      "|       177|0.066|NULL|2265|        Devil's Cup|American Pale Ale...|  12.0| 18th Street Brewery|Gary|   IN|\n",
      "|       177|0.071|NULL|2264|Rise of the Phoenix|        American IPA|  12.0| 18th Street Brewery|Gary|   IN|\n",
      "+----------+-----+----+----+-------------------+--------------------+------+--------------------+----+-----+\n",
      "only showing top 3 rows\n",
      "\n"
     ]
    }
   ],
   "source": [
    "dff.show(3)"
   ]
  },
  {
   "cell_type": "markdown",
   "metadata": {},
   "source": [
    "## Ejercicio 19\n",
    "1. ¿Cuántos estados diferentes hay?\n",
    "2. ¿Y ciudades diferentes?\n",
    "3. ¿Cuántas cervecerías hay?"
   ]
  },
  {
   "cell_type": "code",
   "execution_count": 157,
   "metadata": {},
   "outputs": [
    {
     "name": "stdout",
     "output_type": "stream",
     "text": [
      "+-----+\n",
      "|state|\n",
      "+-----+\n",
      "|   WY|\n",
      "|   OR|\n",
      "|   AR|\n",
      "|   NE|\n",
      "|   TN|\n",
      "|   MN|\n",
      "|   MA|\n",
      "|   MO|\n",
      "|   ND|\n",
      "|   KS|\n",
      "|   NY|\n",
      "|   GA|\n",
      "|   VA|\n",
      "|   OK|\n",
      "|   HI|\n",
      "|   AZ|\n",
      "|   WI|\n",
      "|   RI|\n",
      "|   LA|\n",
      "|   MT|\n",
      "+-----+\n",
      "only showing top 20 rows\n",
      "\n"
     ]
    }
   ],
   "source": [
    "df2.select('state').distinct().show()"
   ]
  },
  {
   "cell_type": "code",
   "execution_count": 158,
   "metadata": {},
   "outputs": [
    {
     "name": "stdout",
     "output_type": "stream",
     "text": [
      "+------------------+\n",
      "|              city|\n",
      "+------------------+\n",
      "|        Evansville|\n",
      "|            Export|\n",
      "|           Chicago|\n",
      "|       Saint Louis|\n",
      "|          Westerly|\n",
      "|           Newport|\n",
      "|         Milwaukee|\n",
      "|         Cheboygan|\n",
      "|        Birmingham|\n",
      "|           Raleigh|\n",
      "|            Eugene|\n",
      "|       Garden City|\n",
      "|    Fredericksburg|\n",
      "|          Ponderay|\n",
      "|           Bozeman|\n",
      "|Middleburg Heights|\n",
      "|        Plant City|\n",
      "|          Stamford|\n",
      "|           Montauk|\n",
      "|           Kearney|\n",
      "+------------------+\n",
      "only showing top 20 rows\n",
      "\n"
     ]
    }
   ],
   "source": [
    "df2.select('city').distinct().show()"
   ]
  },
  {
   "cell_type": "code",
   "execution_count": 159,
   "metadata": {},
   "outputs": [
    {
     "name": "stdout",
     "output_type": "stream",
     "text": [
      "+--------------------+-----+\n",
      "|        brewery_name|count|\n",
      "+--------------------+-----+\n",
      "|    Tapistry Brewing|    1|\n",
      "|The Mitten Brewin...|    1|\n",
      "|Ballast Point Bre...|    1|\n",
      "| Lost Nation Brewing|    1|\n",
      "|Tallgrass Brewing...|    1|\n",
      "|Firestone Walker ...|    1|\n",
      "|Pipeworks Brewing...|    1|\n",
      "|     Destihl Brewery|    1|\n",
      "|Freetail Brewing ...|    1|\n",
      "| 3 Daughters Brewing|    1|\n",
      "|          Ale Asylum|    1|\n",
      "|Bent Paddle Brewi...|    1|\n",
      "|Speakasy Ales & L...|    1|\n",
      "|Thomas Hooker Bre...|    1|\n",
      "|Woodstock Inn, St...|    1|\n",
      "|Mother Earth Brew...|    1|\n",
      "|Karbach Brewing C...|    1|\n",
      "|Deep Ellum Brewin...|    1|\n",
      "|Minhas Craft Brewery|    1|\n",
      "|Independence Brew...|    1|\n",
      "+--------------------+-----+\n",
      "only showing top 20 rows\n",
      "\n"
     ]
    }
   ],
   "source": [
    "df2.groupby('brewery_name').count().show()"
   ]
  },
  {
   "cell_type": "markdown",
   "metadata": {},
   "source": [
    "## Ejercicio 20\n",
    "Agrupa por estado y ciudad, la media, mediana y máximo nivel de alcohol"
   ]
  },
  {
   "cell_type": "code",
   "execution_count": 160,
   "metadata": {},
   "outputs": [
    {
     "name": "stderr",
     "output_type": "stream",
     "text": [
      "24/03/09 13:43:29 WARN CSVHeaderChecker: CSV header does not conform to the schema.\n",
      " Header: , city, state\n",
      " Schema: _c0, city, state\n",
      "Expected: _c0 but found: \n",
      "CSV file: file:///home/carlos/2023/DSPT_TBS_SVL_0923/4-Data_Engineering/1-Spark/ejercicio/breweries.csv\n"
     ]
    },
    {
     "name": "stdout",
     "output_type": "stream",
     "text": [
      "+-----+----------------+--------------------+--------------------+--------------------+\n",
      "|state|            city|            max(abv)|            avg(abv)|         median(abv)|\n",
      "+-----+----------------+--------------------+--------------------+--------------------+\n",
      "|   AK|       Anchorage|               0.063|              0.0542|0.052000000000000005|\n",
      "|   AK|          Juneau|               0.053|               0.053|               0.053|\n",
      "|   AK|        Soldotna|               0.068|0.058499999999999996|0.057999999999999996|\n",
      "|   AK|       Talkeetna|               0.065|              0.0595|0.058499999999999996|\n",
      "|   AL|      Birmingham| 0.09300000000000001|              0.0654|                0.06|\n",
      "|   AL|         Gadsden|                0.06|                0.06|                0.06|\n",
      "|   AL|      Huntsville| 0.07200000000000001| 0.05766666666666667|               0.051|\n",
      "|   AR|          Rogers|                0.04|                0.04|                0.04|\n",
      "|   AR|      Springdale|               0.061|               0.055| 0.05450000000000001|\n",
      "|   AZ|        Chandler|               0.095| 0.06315789473684212|               0.055|\n",
      "|   AZ|       Flagstaff|               0.061|0.055200000000000006|0.054000000000000006|\n",
      "|   AZ|Lake Havasu City|               0.085| 0.06616666666666667|               0.065|\n",
      "|   AZ|         Phoenix|               0.061|               0.061|               0.061|\n",
      "|   AZ|        Prescott|                NULL|                NULL|                NULL|\n",
      "|   AZ|           Tempe|               0.067| 0.05485714285714286|0.052000000000000005|\n",
      "|   AZ|          Tucson|               0.071|0.058666666666666666|                0.06|\n",
      "|   AZ|        Williams|0.054000000000000006| 0.05200000000000001|0.052000000000000005|\n",
      "|   CA|         Belmont| 0.07400000000000001| 0.06633333333333334|               0.071|\n",
      "|   CA|       Boonville|                0.07|0.056888888888888905|               0.057|\n",
      "|   CA|        Buellton|               0.055| 0.04933333333333334|               0.048|\n",
      "+-----+----------------+--------------------+--------------------+--------------------+\n",
      "only showing top 20 rows\n",
      "\n"
     ]
    }
   ],
   "source": [
    "dff.groupBy(['state','city']).agg(spfun.max('abv'),spfun.mean('abv'),spfun.median('abv')).show()"
   ]
  },
  {
   "cell_type": "markdown",
   "metadata": {},
   "source": [
    "## Ejercicio 21\n",
    "¿Cuáles son las cervezas más amargas que se consumen en Indiana, estado = `IN`?"
   ]
  },
  {
   "cell_type": "code",
   "execution_count": 161,
   "metadata": {},
   "outputs": [
    {
     "name": "stderr",
     "output_type": "stream",
     "text": [
      "24/03/09 13:43:31 WARN CSVHeaderChecker: CSV header does not conform to the schema.\n",
      " Header: , name, city, state\n",
      " Schema: _c0, name, city, state\n",
      "Expected: _c0 but found: \n",
      "CSV file: file:///home/carlos/2023/DSPT_TBS_SVL_0923/4-Data_Engineering/1-Spark/ejercicio/breweries.csv\n"
     ]
    },
    {
     "name": "stdout",
     "output_type": "stream",
     "text": [
      "+----------+-----+-----+----+--------------------+--------------------+------+--------------------+-------------+-----+\n",
      "|brewery_id|  abv|  ibu|  id|                name|               style|ounces|        brewery_name|         city|state|\n",
      "+----------+-----+-----+----+--------------------+--------------------+------+--------------------+-------------+-----+\n",
      "|        24|0.099|115.0|2471|    Hopkick Dropkick|American Double /...|  12.0|    Burn 'Em Brewing|Michigan City|   IN|\n",
      "|        17|0.085|115.0|1449|Overlord Imperial...|American Double /...|  16.0|Tin Man Brewing C...|   Evansville|   IN|\n",
      "|        16| 0.06|104.0|1610|      Half Cycle IPA|        American IPA|  16.0|   Flat 12 Bierwerks| Indianapolis|   IN|\n",
      "+----------+-----+-----+----+--------------------+--------------------+------+--------------------+-------------+-----+\n",
      "only showing top 3 rows\n",
      "\n"
     ]
    }
   ],
   "source": [
    "dff.filter(dff['state']==' IN').orderBy('ibu',ascending=False).show(3)"
   ]
  },
  {
   "cell_type": "markdown",
   "metadata": {},
   "source": [
    "## Ejercicio 22\n",
    "Obtén una tabla con los principales estadísticos del campo `ibu`,  a nivel ciudad"
   ]
  },
  {
   "cell_type": "code",
   "execution_count": 162,
   "metadata": {},
   "outputs": [
    {
     "name": "stderr",
     "output_type": "stream",
     "text": [
      "24/03/09 13:43:31 WARN CSVHeaderChecker: CSV header does not conform to the schema.\n",
      " Header: , city\n",
      " Schema: _c0, city\n",
      "Expected: _c0 but found: \n",
      "CSV file: file:///home/carlos/2023/DSPT_TBS_SVL_0923/4-Data_Engineering/1-Spark/ejercicio/breweries.csv\n"
     ]
    },
    {
     "name": "stdout",
     "output_type": "stream",
     "text": [
      "+------------------+--------+------------------+--------+-----------+\n",
      "|              city|max(ibu)|          avg(ibu)|min(ibu)|median(ibu)|\n",
      "+------------------+--------+------------------+--------+-----------+\n",
      "|          Abingdon|   135.0|             135.0|   135.0|      135.0|\n",
      "|     Abita Springs|    52.0|27.333333333333332|    13.0|       17.0|\n",
      "|               Ada|    NULL|              NULL|    NULL|       NULL|\n",
      "|             Afton|    60.0|              43.0|    22.0|       45.0|\n",
      "|    Airway Heights|    NULL|              NULL|    NULL|       NULL|\n",
      "|       Albuquerque|   100.0|             54.25|    15.0|       51.0|\n",
      "|            Alpine|    NULL|              NULL|    NULL|       NULL|\n",
      "|         Anchorage|    70.0|              40.4|    10.0|       42.5|\n",
      "|            Angola|    30.0|              19.0|     8.0|       19.0|\n",
      "|         Ann Arbor|    15.0|              15.0|    15.0|       15.0|\n",
      "|         Arrington|    16.0|              16.0|    16.0|       16.0|\n",
      "|            Arvada|    72.0|45.666666666666664|    29.0|       36.0|\n",
      "|           Ashburn|    65.0|              60.0|    55.0|       60.0|\n",
      "|         Asheville|    69.0|36.666666666666664|    24.0|       29.5|\n",
      "|           Ashland|   100.0| 54.23529411764706|    16.0|       55.0|\n",
      "|             Aspen|    67.0|              47.0|    27.0|       47.0|\n",
      "|           Astoria|   138.0|              69.0|    35.0|       40.0|\n",
      "|            Athens|    65.0|              53.5|    42.0|       53.5|\n",
      "|           Atlanta|    35.0|              35.0|    35.0|       35.0|\n",
      "|Atlantic Highlands|   100.0|              56.0|     9.0|       57.5|\n",
      "+------------------+--------+------------------+--------+-----------+\n",
      "only showing top 20 rows\n",
      "\n"
     ]
    }
   ],
   "source": [
    "dff.groupBy(['city']).agg(spfun.max('ibu'),spfun.mean('ibu'),spfun.min('ibu'),spfun.median('ibu')).show()"
   ]
  },
  {
   "cell_type": "markdown",
   "metadata": {},
   "source": [
    "## Ejercicio 23\n",
    "Consigue en un DataFrame todas las cervezas en cuyas cervecerías el mínimo nivel de `abv` sea de 0.07."
   ]
  },
  {
   "cell_type": "code",
   "execution_count": 163,
   "metadata": {},
   "outputs": [
    {
     "data": {
      "text/plain": [
       "DataFrame[brewery_id: int, abv: double, ibu: double, id: int, name: string, style: string, ounces: double, brewery_name: string, city: string, state: string]"
      ]
     },
     "execution_count": 163,
     "metadata": {},
     "output_type": "execute_result"
    }
   ],
   "source": [
    "dff"
   ]
  },
  {
   "cell_type": "code",
   "execution_count": 167,
   "metadata": {},
   "outputs": [],
   "source": [
    "cervecerias = dff.groupby('brewery_id').agg(spfun.min('abv')).filter('min(abv) > 0.07 ')"
   ]
  },
  {
   "cell_type": "code",
   "execution_count": 168,
   "metadata": {},
   "outputs": [
    {
     "data": {
      "text/plain": [
       "DataFrame[abv: double, ibu: double, id: int, name: string, style: string, brewery_id: int, ounces: double]"
      ]
     },
     "execution_count": 168,
     "metadata": {},
     "output_type": "execute_result"
    }
   ],
   "source": [
    "df"
   ]
  },
  {
   "cell_type": "code",
   "execution_count": 169,
   "metadata": {},
   "outputs": [
    {
     "name": "stdout",
     "output_type": "stream",
     "text": [
      "+----------+-------------------+\n",
      "|brewery_id|           min(abv)|\n",
      "+----------+-------------------+\n",
      "|        18|0.07200000000000001|\n",
      "|       304|               0.08|\n",
      "|       231|              0.071|\n",
      "|       432|0.07400000000000001|\n",
      "|        64|0.08199999999999999|\n",
      "|       509|0.07400000000000001|\n",
      "|       358|0.07200000000000001|\n",
      "|       421|               0.08|\n",
      "|       306|0.08800000000000001|\n",
      "|        95|              0.073|\n",
      "|        99|0.08900000000000001|\n",
      "|       260|0.08199999999999999|\n",
      "|       208|              0.071|\n",
      "|       274|              0.099|\n",
      "|        28|               0.08|\n",
      "|       354|               0.08|\n",
      "|       322|              0.073|\n",
      "+----------+-------------------+\n",
      "\n"
     ]
    }
   ],
   "source": [
    "cervecerias.show()"
   ]
  },
  {
   "cell_type": "code",
   "execution_count": 171,
   "metadata": {},
   "outputs": [
    {
     "name": "stdout",
     "output_type": "stream",
     "text": [
      "+----------+-------------------+-----+----+--------------------+--------------------+------+\n",
      "|brewery_id|                abv|  ibu|  id|                name|               style|ounces|\n",
      "+----------+-------------------+-----+----+--------------------+--------------------+------+\n",
      "|        18|0.07200000000000001| 75.0|2620|      Saucy Intruder|            Rye Beer|  16.0|\n",
      "|       304|               0.08| 80.0|1812|Quarter Mile Doub...|American Double /...|  12.0|\n",
      "|       231|              0.071| 16.0|2062|         Noche Dulce|     American Porter|  16.0|\n",
      "|       432|0.07400000000000001| 60.0|1302| Blur India Pale Ale|        American IPA|  12.0|\n",
      "|        64|0.08199999999999999| NULL|2536|         Tripel Deke|              Tripel|  24.0|\n",
      "|        64|              0.085| NULL|2537|Monkey Dancing On...|         Belgian IPA|  24.0|\n",
      "|       509|               0.08| 31.0| 761|         P-51 Porter|     American Porter|  16.0|\n",
      "|       509|0.07400000000000001| 83.0| 762|             Ace IPA|        American IPA|  16.0|\n",
      "|       358|0.07200000000000001| NULL|1623|        Lift Off IPA|        American IPA|  16.0|\n",
      "|       421|               0.08| NULL|1373|Black Raspberry N...|                Mead|  16.0|\n",
      "|       421|               0.08| NULL|1374|     Sunshine Nectar|                Mead|  16.0|\n",
      "|       421|               0.08| NULL|1375|  Nectar of the Hops|                Mead|  16.0|\n",
      "|       306|0.08800000000000001|108.0|1806| Hoptopus Double IPA|American Double /...|  16.0|\n",
      "|        95|              0.073| NULL|2449|       Flying Sailor|            Rye Beer|  12.0|\n",
      "|        99|0.08900000000000001|126.0|2440|Bay of Bengal Dou...|American Double /...|  12.0|\n",
      "|       260|0.08199999999999999| NULL|1952|         Train Wreck|American Amber / ...|  16.0|\n",
      "|       208|              0.075| 24.0|2162|Lewbricator Wheat...|          Doppelbock|  12.0|\n",
      "|       208|              0.071| NULL|2163|      Sucha Much IPA|        American IPA|  12.0|\n",
      "|       274|              0.099| NULL|1909|Big Chuck Barleywine| American Barleywine|  12.0|\n",
      "|        28|               0.08| 22.0|2601|           Deduction|              Dubbel|  12.0|\n",
      "+----------+-------------------+-----+----+--------------------+--------------------+------+\n",
      "only showing top 20 rows\n",
      "\n"
     ]
    }
   ],
   "source": [
    "cervecerias.select('brewery_id').join(df,on=\"brewery_id\",how=\"left\").show()"
   ]
  },
  {
   "cell_type": "markdown",
   "metadata": {},
   "source": [
    "## Ejercicio 24\n",
    "Teniendo en cuenta la media de amargor de todas las cervezas, obtén una tabla con las cervezas cuyos estados tengan una media de amargor en cerveza por encima de la media"
   ]
  },
  {
   "cell_type": "code",
   "execution_count": null,
   "metadata": {},
   "outputs": [],
   "source": []
  },
  {
   "cell_type": "code",
   "execution_count": null,
   "metadata": {},
   "outputs": [],
   "source": []
  },
  {
   "cell_type": "code",
   "execution_count": null,
   "metadata": {},
   "outputs": [],
   "source": []
  },
  {
   "cell_type": "code",
   "execution_count": null,
   "metadata": {},
   "outputs": [],
   "source": []
  },
  {
   "cell_type": "code",
   "execution_count": null,
   "metadata": {},
   "outputs": [],
   "source": []
  },
  {
   "cell_type": "code",
   "execution_count": null,
   "metadata": {},
   "outputs": [],
   "source": []
  },
  {
   "cell_type": "code",
   "execution_count": null,
   "metadata": {},
   "outputs": [],
   "source": []
  },
  {
   "cell_type": "code",
   "execution_count": null,
   "metadata": {},
   "outputs": [],
   "source": []
  },
  {
   "cell_type": "code",
   "execution_count": null,
   "metadata": {},
   "outputs": [],
   "source": []
  },
  {
   "cell_type": "code",
   "execution_count": null,
   "metadata": {},
   "outputs": [],
   "source": []
  },
  {
   "cell_type": "code",
   "execution_count": null,
   "metadata": {},
   "outputs": [],
   "source": []
  },
  {
   "cell_type": "code",
   "execution_count": null,
   "metadata": {},
   "outputs": [],
   "source": []
  },
  {
   "cell_type": "code",
   "execution_count": null,
   "metadata": {},
   "outputs": [],
   "source": []
  },
  {
   "cell_type": "code",
   "execution_count": null,
   "metadata": {},
   "outputs": [],
   "source": []
  },
  {
   "cell_type": "code",
   "execution_count": null,
   "metadata": {},
   "outputs": [],
   "source": []
  }
 ],
 "metadata": {
  "kernelspec": {
   "display_name": "Python 3.7.4 64-bit",
   "language": "python",
   "name": "python3"
  },
  "language_info": {
   "codemirror_mode": {
    "name": "ipython",
    "version": 3
   },
   "file_extension": ".py",
   "mimetype": "text/x-python",
   "name": "python",
   "nbconvert_exporter": "python",
   "pygments_lexer": "ipython3",
   "version": "3.8.10"
  },
  "vscode": {
   "interpreter": {
    "hash": "90139cb9a825bf3d63f6f6704e828dbd1ff7edbd4d0c6e906a71235d6efc74af"
   }
  }
 },
 "nbformat": 4,
 "nbformat_minor": 4
}
